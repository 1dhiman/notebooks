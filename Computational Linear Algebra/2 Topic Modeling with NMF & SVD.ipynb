{
 "cells": [
  {
   "cell_type": "markdown",
   "metadata": {
    "heading_collapsed": true
   },
   "source": [
    "### Data\n",
    "Newsgroups are discussion groups on Usenet, which was popular in the 80s and 90s before the web really took off. This dataset includes 18,000 newsgroups posts with 20 topics."
   ]
  },
  {
   "cell_type": "code",
   "execution_count": 1,
   "metadata": {
    "hidden": true
   },
   "outputs": [],
   "source": [
    "import numpy as np\n",
    "from sklearn.datasets import fetch_20newsgroups\n",
    "from sklearn import decomposition\n",
    "from scipy import linalg\n",
    "import matplotlib.pyplot as plt"
   ]
  },
  {
   "cell_type": "code",
   "execution_count": 2,
   "metadata": {
    "hidden": true
   },
   "outputs": [],
   "source": [
    "%matplotlib inline\n",
    "np.set_printoptions(suppress=True)"
   ]
  },
  {
   "cell_type": "code",
   "execution_count": 3,
   "metadata": {
    "hidden": true
   },
   "outputs": [],
   "source": [
    "categories = ['alt.atheism', 'talk.religion.misc', 'comp.graphics', 'sci.space']\n",
    "remove = ('headers', 'footers', 'quotes')\n",
    "newsgroups_train = fetch_20newsgroups(subset='train', categories=categories, remove=remove)\n",
    "newsgroups_test = fetch_20newsgroups(subset='test', categories=categories, remove=remove)"
   ]
  },
  {
   "cell_type": "code",
   "execution_count": 4,
   "metadata": {
    "hidden": true
   },
   "outputs": [
    {
     "data": {
      "text/plain": [
       "((2034,), (2034,))"
      ]
     },
     "execution_count": 4,
     "metadata": {},
     "output_type": "execute_result"
    }
   ],
   "source": [
    "newsgroups_train.filenames.shape, newsgroups_train.target.shape"
   ]
  },
  {
   "cell_type": "code",
   "execution_count": 5,
   "metadata": {
    "hidden": true
   },
   "outputs": [
    {
     "name": "stdout",
     "output_type": "stream",
     "text": [
      "Hi,\n",
      "\n",
      "I've noticed that if you only save a model (with all your mapping planes\n",
      "positioned carefully) to a .3DS file that when you reload it after restarting\n",
      "3DS, they are given a default position and orientation.  But if you save\n",
      "to a .PRJ file their positions/orientation are preserved.  Does anyone\n",
      "know why this information is not stored in the .3DS file?  Nothing is\n",
      "explicitly said in the manual about saving texture rules in the .PRJ file. \n",
      "I'd like to be able to read the texture rule information, does anyone have \n",
      "the format for the .PRJ file?\n",
      "\n",
      "Is the .CEL file format available from somewhere?\n",
      "\n",
      "Rych\n",
      "\n",
      "\n",
      "Seems to be, barring evidence to the contrary, that Koresh was simply\n",
      "another deranged fanatic who thought it neccessary to take a whole bunch of\n",
      "folks with him, children and all, to satisfy his delusional mania. Jim\n",
      "Jones, circa 1993.\n",
      "\n",
      "\n",
      "Nope - fruitcakes like Koresh have been demonstrating such evil corruption\n",
      "for centuries.\n",
      "\n",
      " >In article <1993Apr19.020359.26996@sq.sq.com>, msb@sq.sq.com (Mark Brader) \n",
      "\n",
      "MB>                                                             So the\n",
      "MB> 1970 figure seems unlikely to actually be anything but a perijove.\n",
      "\n",
      "JG>Sorry, _perijoves_...I'm not used to talking this language.\n",
      "\n",
      "Couldn't we just say periapsis or apoapsis?\n",
      "\n",
      " \n"
     ]
    }
   ],
   "source": [
    "print(\"\\n\".join(newsgroups_train.data[:3]))"
   ]
  },
  {
   "cell_type": "code",
   "execution_count": 6,
   "metadata": {
    "hidden": true
   },
   "outputs": [
    {
     "data": {
      "text/plain": [
       "array(['comp.graphics', 'talk.religion.misc', 'sci.space'], dtype='<U18')"
      ]
     },
     "execution_count": 6,
     "metadata": {},
     "output_type": "execute_result"
    }
   ],
   "source": [
    "np.array(newsgroups_train.target_names)[newsgroups_train.target[:3]]"
   ]
  },
  {
   "cell_type": "markdown",
   "metadata": {
    "hidden": true
   },
   "source": [
    "The target attribute is the integer index of the category."
   ]
  },
  {
   "cell_type": "code",
   "execution_count": 7,
   "metadata": {
    "hidden": true
   },
   "outputs": [
    {
     "data": {
      "text/plain": [
       "array([1, 3, 2, 0, 2, 0, 2, 1, 2, 1])"
      ]
     },
     "execution_count": 7,
     "metadata": {},
     "output_type": "execute_result"
    }
   ],
   "source": [
    "newsgroups_train.target[:10]"
   ]
  },
  {
   "cell_type": "code",
   "execution_count": 8,
   "metadata": {
    "hidden": true
   },
   "outputs": [],
   "source": [
    "num_topics, num_top_words = 6, 8"
   ]
  },
  {
   "cell_type": "markdown",
   "metadata": {
    "hidden": true
   },
   "source": [
    "Scikit learn has a method that will extract all the word counts for us."
   ]
  },
  {
   "cell_type": "code",
   "execution_count": 9,
   "metadata": {
    "hidden": true
   },
   "outputs": [
    {
     "data": {
      "text/plain": [
       "(2034, 26576)"
      ]
     },
     "execution_count": 9,
     "metadata": {},
     "output_type": "execute_result"
    }
   ],
   "source": [
    "from sklearn.feature_extraction.text import CountVectorizer, TfidfVectorizer\n",
    "vectorizer = CountVectorizer(stop_words='english')\n",
    "vectors = vectorizer.fit_transform(newsgroups_train.data).todense() # (documents, vocab)\n",
    "vectors.shape #, vectors.nnz / vectors.shape[0], row_means.shape"
   ]
  },
  {
   "cell_type": "code",
   "execution_count": 10,
   "metadata": {
    "hidden": true
   },
   "outputs": [
    {
     "name": "stdout",
     "output_type": "stream",
     "text": [
      "2034 (2034, 26576)\n"
     ]
    }
   ],
   "source": [
    "print(len(newsgroups_train.data), vectors.shape)"
   ]
  },
  {
   "cell_type": "code",
   "execution_count": 11,
   "metadata": {
    "hidden": true
   },
   "outputs": [],
   "source": [
    "vocab = np.array(vectorizer.get_feature_names())"
   ]
  },
  {
   "cell_type": "code",
   "execution_count": 12,
   "metadata": {
    "hidden": true
   },
   "outputs": [
    {
     "data": {
      "text/plain": [
       "(26576,)"
      ]
     },
     "execution_count": 12,
     "metadata": {},
     "output_type": "execute_result"
    }
   ],
   "source": [
    "vocab.shape"
   ]
  },
  {
   "cell_type": "code",
   "execution_count": 13,
   "metadata": {
    "hidden": true
   },
   "outputs": [
    {
     "data": {
      "text/plain": [
       "array(['cosmonauts', 'cosmos', 'cosponsored', 'cost', 'costa', 'costar',\n",
       "       'costing', 'costly', 'costruction', 'costs', 'cosy', 'cote',\n",
       "       'couched', 'couldn', 'council', 'councils', 'counsel',\n",
       "       'counselees', 'counselor', 'count'], dtype='<U80')"
      ]
     },
     "execution_count": 13,
     "metadata": {},
     "output_type": "execute_result"
    }
   ],
   "source": [
    "vocab[7000:7020]"
   ]
  },
  {
   "cell_type": "markdown",
   "metadata": {
    "heading_collapsed": true
   },
   "source": [
    "# Singular Value Decomposition (SVD)"
   ]
  },
  {
   "cell_type": "markdown",
   "metadata": {
    "hidden": true
   },
   "source": [
    "We would clearly expect that the words that appear most frequently in one topic would appear less frequently in the other - otherwise that word wouldn't make a good choice to separate out the two topics. Therefore, we expect the topics to be **orthogonal**.\n",
    "\n",
    "The SVD algorithm factorizes a matrix into one matrix with orthogonal columns and one with orthogonal rows (along with a diagonal matrix, which contains the relative importance of each factor).\n",
    "\n",
    "SVD is an exact decomposition, since the matrices it creates are big enough to fully cover the original matrix. \n",
    "\n",
    "![](https://research.fb.com/wp-content/uploads/2016/11/post00049_image0001.png)"
   ]
  },
  {
   "cell_type": "code",
   "execution_count": 14,
   "metadata": {
    "hidden": true
   },
   "outputs": [
    {
     "name": "stdout",
     "output_type": "stream",
     "text": [
      "CPU times: user 39.3 s, sys: 1.04 s, total: 40.3 s\n",
      "Wall time: 20.9 s\n"
     ]
    }
   ],
   "source": [
    "%time U, s, Vh = linalg.svd(vectors, full_matrices=False)"
   ]
  },
  {
   "cell_type": "code",
   "execution_count": 15,
   "metadata": {
    "hidden": true
   },
   "outputs": [
    {
     "name": "stdout",
     "output_type": "stream",
     "text": [
      "(2034, 2034) (2034,) (2034, 26576)\n"
     ]
    }
   ],
   "source": [
    "print(U.shape, s.shape, Vh.shape)"
   ]
  },
  {
   "cell_type": "code",
   "execution_count": 16,
   "metadata": {
    "hidden": true
   },
   "outputs": [
    {
     "data": {
      "text/plain": [
       "True"
      ]
     },
     "execution_count": 16,
     "metadata": {},
     "output_type": "execute_result"
    }
   ],
   "source": [
    "# Confirm this is a decomposition of the input.\n",
    "reconstructed_vectors = U @ np.diag(s) @ Vh\n",
    "np.allclose(reconstructed_vectors, vectors)"
   ]
  },
  {
   "cell_type": "code",
   "execution_count": 17,
   "metadata": {
    "hidden": true
   },
   "outputs": [
    {
     "data": {
      "text/plain": [
       "True"
      ]
     },
     "execution_count": 17,
     "metadata": {},
     "output_type": "execute_result"
    }
   ],
   "source": [
    "# Confirm that U, V are orthonormal\n",
    "np.allclose(U @ U.T, np.eye(U.shape[0]))"
   ]
  },
  {
   "cell_type": "code",
   "execution_count": 18,
   "metadata": {
    "hidden": true
   },
   "outputs": [
    {
     "data": {
      "text/plain": [
       "True"
      ]
     },
     "execution_count": 18,
     "metadata": {},
     "output_type": "execute_result"
    }
   ],
   "source": [
    "np.allclose(U @ U.T, np.eye(U.shape[0]))"
   ]
  },
  {
   "cell_type": "markdown",
   "metadata": {
    "hidden": true
   },
   "source": [
    "### Topics\n",
    "What can we say about the singular values s?"
   ]
  },
  {
   "cell_type": "code",
   "execution_count": 19,
   "metadata": {
    "hidden": true
   },
   "outputs": [
    {
     "data": {
      "image/png": "[encoded data removed]",
      "text/plain": [
       "<Figure size 432x288 with 1 Axes>"
      ]
     },
     "metadata": {
      "needs_background": "light"
     },
     "output_type": "display_data"
    }
   ],
   "source": [
    "plt.plot(s);"
   ]
  },
  {
   "cell_type": "code",
   "execution_count": 20,
   "metadata": {
    "hidden": true
   },
   "outputs": [
    {
     "data": {
      "image/png": "[encoded data removed]",
      "text/plain": [
       "<Figure size 432x288 with 1 Axes>"
      ]
     },
     "metadata": {
      "needs_background": "light"
     },
     "output_type": "display_data"
    }
   ],
   "source": [
    "plt.plot(s[:10]);"
   ]
  },
  {
   "cell_type": "code",
   "execution_count": 21,
   "metadata": {
    "hidden": true
   },
   "outputs": [],
   "source": [
    "num_top_words=8\n",
    "\n",
    "def show_topics(a):\n",
    "    top_words = lambda t: [vocab[i] for i in np.argsort(t)[:-num_top_words-1:-1]]\n",
    "    topic_words = ([top_words(t) for t in a])\n",
    "    return [' '.join(t) for t in topic_words]"
   ]
  },
  {
   "cell_type": "code",
   "execution_count": 22,
   "metadata": {
    "hidden": true
   },
   "outputs": [
    {
     "data": {
      "text/plain": [
       "['critus ditto propagandist surname galacticentric kindergarten surreal imaginative',\n",
       " 'jpeg gif file color quality image jfif format',\n",
       " 'graphics edu pub mail 128 3d ray ftp',\n",
       " 'jesus god matthew people atheists atheism does graphics',\n",
       " 'image data processing analysis software available tools display',\n",
       " 'god atheists atheism religious believe religion argument true',\n",
       " 'space nasa lunar mars probe moon missions probes',\n",
       " 'image probe surface lunar mars probes moon orbit',\n",
       " 'argument fallacy conclusion example true ad argumentum premises',\n",
       " 'space larson image theory universe physical nasa material']"
      ]
     },
     "execution_count": 22,
     "metadata": {},
     "output_type": "execute_result"
    }
   ],
   "source": [
    "show_topics(Vh[:10])"
   ]
  },
  {
   "cell_type": "markdown",
   "metadata": {
    "hidden": true
   },
   "source": [
    "We get topics that match the kinds of clusters we would expect! This is despite the fact that this is an **unsupervised** algorithm - which is to say, we never actually told the algorithm how our documents are grouped.\n",
    "\n",
    "For now, the important takeaway is that we have a tool that allows us to exactly factor a matrix into orthogonal columns and orthogonal rows."
   ]
  },
  {
   "cell_type": "markdown",
   "metadata": {
    "heading_collapsed": true
   },
   "source": [
    "# Non-negative Matrix Factorization (NMF)"
   ]
  },
  {
   "cell_type": "markdown",
   "metadata": {
    "hidden": true
   },
   "source": [
    "Rather than constraining our factors to be *orthogonal*, another idea would to constrain them to be non-negative. NMF is a factorization of a non-negative data set $V$:\n",
    "\n",
    "$V=WH$\n",
    "\n",
    "into non-negative matrices $W$,$H$. Often positive factors will be more easily interpretable (and this is the reason behind NMF's popularity).\n",
    "\n",
    "![](https://nbviewer.jupyter.org/github/fastai/numerical-linear-algebra/blob/master/nbs/images/nmf_doc.png)\n",
    "\n",
    "Nonnegative matrix factorization (NMF) is a non-exact factorization that factors into one skinny positive matrix and one short positive matrix. NMF is NP-hard and non-unique. There are a number of variations on it, created by adding different constraints.\n",
    "\n",
    "### NMF from sklearn"
   ]
  },
  {
   "cell_type": "code",
   "execution_count": 23,
   "metadata": {
    "hidden": true
   },
   "outputs": [],
   "source": [
    "m,n=vectors.shape\n",
    "d=5  # num topics"
   ]
  },
  {
   "cell_type": "code",
   "execution_count": 24,
   "metadata": {
    "hidden": true
   },
   "outputs": [],
   "source": [
    "clf = decomposition.NMF(n_components=d, random_state=1)\n",
    "\n",
    "W1 = clf.fit_transform(vectors)\n",
    "H1 = clf.components_"
   ]
  },
  {
   "cell_type": "code",
   "execution_count": 25,
   "metadata": {
    "hidden": true
   },
   "outputs": [
    {
     "data": {
      "text/plain": [
       "['jpeg image gif file color images format quality',\n",
       " 'edu graphics pub mail 128 ray ftp send',\n",
       " 'space launch satellite nasa commercial satellites year market',\n",
       " 'jesus god people matthew atheists does atheism said',\n",
       " 'image data available software processing ftp edu analysis']"
      ]
     },
     "execution_count": 25,
     "metadata": {},
     "output_type": "execute_result"
    }
   ],
   "source": [
    "show_topics(H1)"
   ]
  },
  {
   "cell_type": "markdown",
   "metadata": {
    "hidden": true
   },
   "source": [
    "### TF-IDF\n",
    "\n",
    "Topic Frequency-Inverse Document Frequency (TF-IDF) is a way to normalize term counts by taking into account how often they appear in a document, how long the document is, and how commmon/rare the term is.\n",
    "\n",
    "* TF = (# occurrences of term t in document) / (# of words in documents)\n",
    "* IDF = log(# of documents / # documents with term t in it)"
   ]
  },
  {
   "cell_type": "code",
   "execution_count": 26,
   "metadata": {
    "hidden": true
   },
   "outputs": [],
   "source": [
    "vectorizer_tfidf = TfidfVectorizer(stop_words='english')\n",
    "vectors_tfidf = vectorizer_tfidf.fit_transform(newsgroups_train.data) # (documents, vocab)"
   ]
  },
  {
   "cell_type": "code",
   "execution_count": 27,
   "metadata": {
    "hidden": true
   },
   "outputs": [],
   "source": [
    "W1 = clf.fit_transform(vectors_tfidf)\n",
    "H1 = clf.components_"
   ]
  },
  {
   "cell_type": "code",
   "execution_count": 28,
   "metadata": {
    "hidden": true
   },
   "outputs": [
    {
     "data": {
      "text/plain": [
       "['people don think just like objective say morality',\n",
       " 'graphics thanks files image file program windows know',\n",
       " 'space nasa launch shuttle orbit moon lunar earth',\n",
       " 'ico bobbe tek beauchaine bronx manhattan sank queens',\n",
       " 'god jesus bible believe christian atheism does belief']"
      ]
     },
     "execution_count": 28,
     "metadata": {},
     "output_type": "execute_result"
    }
   ],
   "source": [
    "show_topics(H1)"
   ]
  },
  {
   "cell_type": "code",
   "execution_count": 29,
   "metadata": {
    "hidden": true
   },
   "outputs": [
    {
     "data": {
      "image/png": "[encoded data removed]",
      "text/plain": [
       "<Figure size 432x288 with 1 Axes>"
      ]
     },
     "metadata": {
      "needs_background": "light"
     },
     "output_type": "display_data"
    }
   ],
   "source": [
    "plt.plot(clf.components_[0]);"
   ]
  },
  {
   "cell_type": "code",
   "execution_count": 30,
   "metadata": {
    "hidden": true
   },
   "outputs": [
    {
     "data": {
      "text/plain": [
       "43.71292605795276"
      ]
     },
     "execution_count": 30,
     "metadata": {},
     "output_type": "execute_result"
    }
   ],
   "source": [
    "clf.reconstruction_err_"
   ]
  },
  {
   "cell_type": "markdown",
   "metadata": {
    "hidden": true
   },
   "source": [
    "### NMF from scratch in numpy, using SGD\n",
    "\n",
    "#### Gradient Descent\n",
    "\n",
    "The key idea of standard gradient descent:\n",
    "\n",
    "1. Randomly choose some weights to start\n",
    "2. Loop:\n",
    "    * Use weights to calculate a prediction\n",
    "    * Calculate the derivative of the loss\n",
    "    * Update the weights\n",
    "3. Repeat step 2 lots of times. Eventually we end up with some decent weights.\n",
    "\n",
    "**Key**: We want to decrease our loss and the derivative tells us the direction of **steepest descent**.\n",
    "\n",
    "Note that *loss*, *error*, and *cost* are all terms used to describe the same thing.\n"
   ]
  },
  {
   "cell_type": "code",
   "execution_count": 43,
   "metadata": {
    "hidden": true
   },
   "outputs": [],
   "source": [
    "from numpy.random import random\n",
    "from matplotlib import pyplot as plt, rcParams, animation, rc\n",
    "from ipywidgets import interact, interactive, fixed\n",
    "from ipywidgets.widgets import *\n",
    "rc('animation', html='html5')\n",
    "rcParams['figure.figsize'] = 3, 3\n",
    "%precision 4\n",
    "np.set_printoptions(precision=4, linewidth=100)\n",
    "def lin(a,b,x): return a*x+b"
   ]
  },
  {
   "cell_type": "code",
   "execution_count": 32,
   "metadata": {
    "hidden": true
   },
   "outputs": [],
   "source": [
    "a=3.\n",
    "b=8."
   ]
  },
  {
   "cell_type": "code",
   "execution_count": 33,
   "metadata": {
    "hidden": true
   },
   "outputs": [],
   "source": [
    "n=30\n",
    "x = random(n)\n",
    "y = lin(a,b,x)"
   ]
  },
  {
   "cell_type": "code",
   "execution_count": 34,
   "metadata": {
    "hidden": true
   },
   "outputs": [
    {
     "data": {
      "text/plain": [
       "array([0.0318, 0.5386, 0.6974, 0.9409, 0.7528, 0.3305, 0.4177, 0.0514, 0.4744, 0.5348, 0.5265,\n",
       "       0.407 , 0.6915, 0.0314, 0.9704, 0.3792, 0.1883, 0.2844, 0.7163, 0.3532, 0.1518, 0.2569,\n",
       "       0.2414, 0.0252, 0.4888, 0.2136, 0.3006, 0.8564, 0.4756, 0.9111])"
      ]
     },
     "execution_count": 34,
     "metadata": {},
     "output_type": "execute_result"
    }
   ],
   "source": [
    "x"
   ]
  },
  {
   "cell_type": "code",
   "execution_count": 35,
   "metadata": {
    "hidden": true
   },
   "outputs": [
    {
     "data": {
      "text/plain": [
       "array([ 8.0953,  9.6158, 10.0921, 10.8228, 10.2585,  8.9914,  9.253 ,  8.1542,  9.4233,  9.6043,\n",
       "        9.5796,  9.2211, 10.0744,  8.0942, 10.9111,  9.1375,  8.5649,  8.8532, 10.149 ,  9.0595,\n",
       "        8.4554,  8.7707,  8.7243,  8.0757,  9.4664,  8.6409,  8.9017, 10.5692,  9.4267, 10.7334])"
      ]
     },
     "execution_count": 35,
     "metadata": {},
     "output_type": "execute_result"
    }
   ],
   "source": [
    "y"
   ]
  },
  {
   "cell_type": "code",
   "execution_count": 36,
   "metadata": {
    "hidden": true
   },
   "outputs": [
    {
     "data": {
      "image/png": "[encoded data removed]",
      "text/plain": [
       "<Figure size 216x216 with 1 Axes>"
      ]
     },
     "metadata": {
      "needs_background": "light"
     },
     "output_type": "display_data"
    }
   ],
   "source": [
    "plt.scatter(x,y);"
   ]
  },
  {
   "cell_type": "code",
   "execution_count": 37,
   "metadata": {
    "hidden": true
   },
   "outputs": [],
   "source": [
    "def sse(y,y_pred): return ((y-y_pred)**2).sum()\n",
    "def loss(y,a,b,x): return sse(y, lin(a,b,x))\n",
    "def avg_loss(y,a,b,x): return np.sqrt(loss(y,a,b,x)/n)"
   ]
  },
  {
   "cell_type": "code",
   "execution_count": 38,
   "metadata": {
    "hidden": true
   },
   "outputs": [
    {
     "data": {
      "text/plain": [
       "8.833745746213486"
      ]
     },
     "execution_count": 38,
     "metadata": {},
     "output_type": "execute_result"
    }
   ],
   "source": [
    "a_guess=-1.\n",
    "b_guess=1.\n",
    "avg_loss(y, a_guess, b_guess, x)"
   ]
  },
  {
   "cell_type": "code",
   "execution_count": 39,
   "metadata": {
    "hidden": true
   },
   "outputs": [],
   "source": [
    "lr=0.01"
   ]
  },
  {
   "cell_type": "code",
   "execution_count": 40,
   "metadata": {
    "hidden": true
   },
   "outputs": [],
   "source": [
    "def upd():\n",
    "    global a_guess, b_guess\n",
    "    \n",
    "    # make a prediction using the current weights\n",
    "    y_pred = lin(a_guess, b_guess, x)\n",
    "    \n",
    "    # calculate the derivate of the loss\n",
    "    dydb = 2 * (y_pred - y)\n",
    "    dyda = x*dydb\n",
    "    \n",
    "    # update our weights by moving in direction of steepest descent\n",
    "    a_guess -= lr*dyda.mean()\n",
    "    b_guess -= lr*dydb.mean()"
   ]
  },
  {
   "cell_type": "code",
   "execution_count": 41,
   "metadata": {
    "hidden": true
   },
   "outputs": [
    {
     "data": {
      "text/html": [
       "<video width=\"500\" height=\"400\" controls autoplay loop>\n",
       "  <source type=\"video/mp4\" src=\"data:video/mp4;base64,AAAAHGZ0eXBNNFYgAAACAGlzb21pc28yYXZjMQAAAAhmcmVlAABMeW1kYXQAAAKuBgX//6rcRem9\n",
       "5tlIt5Ys2CDZI+7veDI2NCAtIGNvcmUgMTU1IHIyOTE3IDBhODRkOTggLSBILjI2NC9NUEVHLTQg\n",
       "QVZDIGNvZGVjIC0gQ29weWxlZnQgMjAwMy0yMDE4IC0gaHR0cDovL3d3dy52aWRlb2xhbi5vcmcv\n",
       "eDI2NC5odG1sIC0gb3B0aW9uczogY2FiYWM9MSByZWY9MyBkZWJsb2NrPTE6MDowIGFuYWx5c2U9\n",
       "MHgzOjB4MTEzIG1lPWhleCBzdWJtZT03IHBzeT0xIHBzeV9yZD0xLjAwOjAuMDAgbWl4ZWRfcmVm\n",
       "PTEgbWVfcmFuZ2U9MTYgY2hyb21hX21lPTEgdHJlbGxpcz0xIDh4OGRjdD0xIGNxbT0wIGRlYWR6\n",
       "b25lPTIxLDExIGZhc3RfcHNraXA9MSBjaHJvbWFfcXBfb2Zmc2V0PS0yIHRocmVhZHM9NiBsb29r\n",
       "YWhlYWRfdGhyZWFkcz0xIHNsaWNlZF90aHJlYWRzPTAgbnI9MCBkZWNpbWF0ZT0xIGludGVybGFj\n",
       "ZWQ9MCBibHVyYXlfY29tcGF0PTAgY29uc3RyYWluZWRfaW50cmE9MCBiZnJhbWVzPTMgYl9weXJh\n",
       "bWlkPTIgYl9hZGFwdD0xIGJfYmlhcz0wIGRpcmVjdD0xIHdlaWdodGI9MSBvcGVuX2dvcD0wIHdl\n",
       "aWdodHA9MiBrZXlpbnQ9MjUwIGtleWludF9taW49MTAgc2NlbmVjdXQ9NDAgaW50cmFfcmVmcmVz\n",
       "aD0wIHJjX2xvb2thaGVhZD00MCByYz1jcmYgbWJ0cmVlPTEgY3JmPTIzLjAgcWNvbXA9MC42MCBx\n",
       "cG1pbj0wIHFwbWF4PTY5IHFwc3RlcD00IGlwX3JhdGlvPTEuNDAgYXE9MToxLjAwAIAAABOMZYiE\n",
       "AD///vdonwKbWkN6gOSVxSXbT4H/q2dwfI/pAwAAAwAAAwAkAvzHv6EHQzQgAABQic/gsldNQVEG\n",
       "rVWJETueZW6CveofCONurjKq1mcfZ0P89EfiowXffzerReILorurz0Hw00X7IHiVKxzwYDZD0QxJ\n",
       "mjjow9WXmubobDkAApf5Or+/rLBedPIlMnsUWtlb8eOk8vSrdtSyIk12fkj3cEqG5wJdOHTxNDu8\n",
       "JlwzyvfGwSyhKOCuLMhk5GGq1R4vEBSF63u/tdTe1oSSNLP0d9ImQX0axA93L801oj+TsBTJwIYH\n",
       "kskPnz3fUvZkzjZJxAcu33sH5HfGk4Zg+8lAu5zUOq1Aw2PxnpJDPHjIwBappuwrrbevnWwgVCfx\n",
       "eNhfbjtgGYSDQ+CZfpHHX7vpnaQwy0DqWNbBQaLLgmCnGhz/NEUa1GusGvk8sC+vyBGzFXafkrXP\n",
       "QIAYA6UOQHGz9lMQqAAkvr8pyrr8J8VPEC9mgyPI6zoJSH2k4vJwf5HVB+bNOyFohFVMF4bmf76D\n",
       "HSr4UNVoFP5R5EARPpk1yTJNdH93qm59zFuU2D4wWMm3SzUrPW6VElo0Oz70KwGVU2iqRc5j5nrX\n",
       "3vFvpJejC66c+rQRYhgHevZ9PhfKEIg/w3gp4RVgTwS7EmnlHaoS8DqCL/UvnYTenKux6lv0oO0E\n",
       "9blRY4jfr170M4UhlNM320LEVjbMuTRzqxMlM+tWpWX+ujMT/Evz57lji2MZOdktAW3vfVPWzcTl\n",
       "CJxwR3/nZTNvPTbjsgfdLwLi6g3lDxuG0kBiXb733IAqnThRht3zOtnf7Zmp+uyBj/MIhhIMlt2n\n",
       "BYW0kljNHPSKWUPnkLwFGOXNSHOiTS/hhyVkIHM4K03mzreFJ5C6urf5DSkhFs+IPN7niE4XU16e\n",
       "TqTRIqdirO+XXDCKMcdZGYlel7uAP1TqA9NfpVUFNocJtwEbMG+BQNIvTMxX1dgSQJZh+wNbVtUR\n",
       "3DiDrmvbuXyJRFcDHQTw39c6KruLpUG0KFeP4PCmKri4sNi1VEqOKl8XCzAkPQ+ubowl3KpNPteS\n",
       "iIWaV9rJ44aEYxLGYEsuVhkusTrUa2WtjSAo0oiptygbt0MSppFMpr22mAKq/rP66gX/plVm3Fo0\n",
       "ZmlxpMQ+0IDDSDTP9dMHKfEsvTDIhPQYQ0fvxT85Avw0LWUi2YGCc37eKHrpjlrUcQaVywGs6UNC\n",
       "jfrD6iNx0LNujxD5L6REoj4CHum784r+9qpseTFILBWZjQnl12FzWO8S9vOeyiRIxgPEaRMAAAc2\n",
       "BLDp+8x7G7hPKuj9i1HUlnyARcp+KSzUxkYDvKAU7V9dsoNKxDFnIZrbPWMQUe90I8iFINFO9XtP\n",
       "/6kdaoLAjvXcxj74CgCF6jAea9dWpn7B0elXoZIukg1S0XED2h3Leqb/9UqaJkJAoum4nsbR0m0L\n",
       "WKa/URfqgwkOHoWI94KxelgxCzHN+6ciXThOW1NAizXTe1Yzr7uaoVR4XMm9lidSb+GR17xh2Dbr\n",
       "MKSheOzAsRW5KDBkJyps14P1FtwD/ov6yQDOWR/Rblx6biTG2a1k9uGU3g9KDVQKzV1wCrQQOUuI\n",
       "3ZCSi6KQXRkpyaVfBmD5HYH8UBHAKOF9H+/Uuf/PLnRNcyEXgflDnnV9IZQpkn/M0u3NGn56yeAH\n",
       "4PViM1Rn/juZPy4A3PlxfPtaWhwzPdbuL5wVLFcT8QzBkpQQEVZgeqBDQEuH5P3arHuKy+/USzer\n",
       "kZqh0xkijmzpJdogpMocDn+88VKblF2UBiT7GuSQ/XpHvEOdTAcWG8u3GodfbV4M4tGywr7kybDI\n",
       "+mbb637j5ZBfiH99mbB3luTfqy7QfRVlQBn9rX0L+1Skmdx1jxuwrpKEhpfRD0H4culKIyUEUXhY\n",
       "h48Z4nP2yyZCDdgGpVi4hHU+RBYaHYkxJnP+8Goole8zbRMnrdHT0nY5ZrEpKqxs9X3Kv+r49rM3\n",
       "y5LdpHhmlhTohduL/GnnNM3CD45EFeeSUp8+feZ1LxlcB03a23xmfZ/FnSZhIV7JnuwN55hxf6If\n",
       "FTeSC5AbftUtALzJlSUiqDouYsEP32OgTiI31W4Knr4w+rTSArb5dYkxbCAS6rS6H5WKAtFxlX/a\n",
       "Mnh8vpUu3R7ELob0QkG+MVe1ZefI/cW3J+UIhepGDU486Mry8vWKD1SfFOzu62h3dAAMgPn6Gd6Y\n",
       "HJoS2Eild5POZYnHsGGknbXybxKyOGNAqEcKZPIrDZzZiBQ/tTMe4Oo9ZJjPV4YefgSTIqElIMmK\n",
       "uKaoWNa2Kv/6sbnqyZkf5vVdXV1MFAvPjxIAsQ/kz1AiV/LHplJJW22LNi2EblSaDyDdqzEyh1s5\n",
       "zf1U+njLs3IGfpNtaXhgQxfNK05GuC8GIaknevc9BzQUHIZ93F1IvpvMLj9eTXcaSXxKEDBQH7Lw\n",
       "n4jCICqXmYjEjvOfQGXNM3B5yImBlcORMW1vSKNeBU3b4I22EFRxoU+zwuxdT/nKIYMiBN3zPVI5\n",
       "jjAkYiwOw39lzIsQsQFzVCWkoLMZ2ElWLqX5WZnhWoQjag70dat+mhV/Lv0LeeAes7kdPvHO9gFG\n",
       "OajyPsbhtmK7xwH9B4a9oZX8328kXeim1qm3WeCIDDwmLqQG2apY1a3Iae4Qe/izRpRYqPlqP/xU\n",
       "mS+sGe9gxp3njju0ajHwxiVAaXgy6iwkhGdLHck9i5GdIUi0NfcWTsRjzOLEFeU4N0KFyDbehyQp\n",
       "MdDfJW09bQ2G8UnHR5DyrnVbMcEK6QXPIUMBOiSFkPcLzOTqKDqBxIAMzMJFqdXY6PfAjdfpdi5o\n",
       "Et/a6s//inoY17B4J820WnWzWsl0u/tjllJ4rIBVpvb5u5+0wCPlsiilduuMmrHbKFWPvAwLlUuh\n",
       "jwLZQrFDr6E61amZjQRPwYwrm3oEp3McA+vpK/Merto6ettiXROmZHmNEbpiYHlqrE8R+0MNl0oZ\n",
       "qDdMBlR5EYW2sd6y4vc+Rm0+Qq35p/dOKwdOcU11F15ht+c4QZ9rDTwJTSuVH4DF4dQtrunGtLyz\n",
       "Nr7qVkjQDlIUL/ckHCkhAuBy2F9JbVQUY9I80bCVHjGJzZqeQ2maINYTOeGjZukQHs1io+Ds8DAi\n",
       "8qkfgcZ2T31l0zExU16Vs+XIdPznwlAi/9/B3Wuq6CRS3/97OBbJAK6xUpz7zbcWbB0ikyBk+ZB/\n",
       "hUPQ6yY4kqY/S9CIc5dU/DccANwlLmWkfm3p3wbnNMb0eaHavowlikcOZytXZXfkPRkR6qqpuLYs\n",
       "qcaq2GsMyMN3A49I+3gg84BFoaW7lXtNPFRymJ+jDpRYF4BloE7szxaAyA4VgaiUIcKiA6cC3pqz\n",
       "c9todrcG5mLbiaI2RywOdI9J+DyDcuWqI8217rftNVSBFIoX2kkDDN7EfQsBNSjG4KjxlqfrjGcK\n",
       "qqU4ff/2DXCZ5duUWPAlY/UWrPcnxokbBEFHjzAlStU+GxRIjnAdC6GekaCLDUK02GfxMaDfwcHd\n",
       "CHXaZb6h0D0tW5gBhrvP93ZRlDa4j4xfLqn6uGEA2JanAN+gD3OGqGJ9f/5yvrZRHVRcWFUmnX/W\n",
       "7hPtP2EdPIKShUhg8+1cJCvO0n5IZO5mWpXtBVUIpOEjFRInjatpzzfmK9vQqdFxjyHpy0V8zp+g\n",
       "x5kte9HnIQpnzXRkjAD0WFDAeRvo7dio+oQz+ZyEdbvtpQ437XQf5FnMQmDiWNeAFhSFou3+vvL0\n",
       "X4ALhomFs5IyyZGrBSdXL40u6tuO4YTR3Eg61Tr3KtwbqbmqDcwpm03pRsJzlTy+P3p5j0HN2SI7\n",
       "stLAcK8yJk7hbAZ2MbwBoDErKW2moDuAOEGvcTg7tcFWYDMGeB2D9fN5A46X6IHuK9de6mHkbsGo\n",
       "hceayXd4zyu1ukxSbqTsL8mcJq1rJajAmc0G+Ke619eyagR2zb6UZyBO0bLJANIed6mWLQJhPIeX\n",
       "Ju6VuHYBzT3SAPErvMdRpOG+Ct/MZfgMfs2S5AASs0QFCYQKf7KUXhEOF3v8JV9deJuMdgR3dMZj\n",
       "sEXVMDejqsaSh+KHZsLfVgIsjppWBEeFSgPDBYUiKssmgZeSDFR/i3/bIUuNcysrNDmsBKjyN/TD\n",
       "mwIun4EihFWhrznamu0IIZsC5FvTSt4e1yl/w0S81KRbUBLDnQHe4gEiQVn3SZ9/rbIWj9em0xmD\n",
       "dzXztqIw3d0MG9LwOkA4yJgbkNkKEdv+nvnrbsTbXwCyNp2WYNGd1hi1SsXP7N/vbx9NE6zITh0R\n",
       "zI09JRRsiVrPeTtTZRLMfZTegI2Bcox9sMFRQQplvy9PBA284O1jGoWz5uKTiuzJMDWRBrfyDXk0\n",
       "ipjKAl42GHa3yNV5HvfNlnW//FLCBRE0KEBqXpPqiPB34AM/Jd3ub3CfOdUQL7lfafnpPzxSlEtq\n",
       "4KWKcN9lIph0jo/0Hn+Iv1xeMQuSYYjhHmnThP7k+mktON4Dczrxv1SyEjZECuSKiVuQLmx0ftl/\n",
       "GnhFOqNmjIK/rf/vg4TO2CkVNHEWPFgc7aGBqU/9cWbKp571165LFk197Me67HRx2JA3C9NNd9qP\n",
       "hA7hnq7jndK8h3WUFy9mdgC/97FTi+Oo5YaaCtkwmgxkwFaJrLuFFaVBVBBbKxLs7CSLFQMVWsmz\n",
       "7/cBeSP0mulZ02/JSLs6RRccnN+tV5w/hz0Oe3MZc48rJR1vrsZrLWC5vsAAgLt8jHm+vcnMuM7d\n",
       "dL0gbC28pbsac21scWO0v8uoP9sdfIMHNQfeLarFKixgAavoWoQZ19KhhL74b/cyn73ig4wnaiy1\n",
       "t6Z0/qPHyr7mbnBTPha0tk/2FGW/YKHlcKtLmxHucHCEP2Cz7vG6JoDz0RoA4OSwjyQU40ceZIPF\n",
       "TG7qq2nIV4uVtH1QaexceY/7DCiGod7MvTR4jP+VVC/XwE5LUZ64Y2bYCNCbCEXnIMys+7AKOlJx\n",
       "xLX8r/FxAO2KikvjG2nEbGdIQaBYhc43ENCKmVwA25Pm+KCpQenTeaMt8/NkAmOGU3WAtMgOpH9I\n",
       "1XFiYFu3AlxvjMNprkj5YNT9VSp9Uw1A1DdwjNWgsalHeAWCSVtHnKk+4nyv1TlsQaX/GwQIbF16\n",
       "Pke4DyaMql3RozRJU6HA8mPOOEUucesGzaAr3NMTUhmdZru5LrpKqjcmdGNSEMNfV5Ce6nSK4mqi\n",
       "jv159jkAnUXakjBab5/pQehS+f+jHWIfgGIE8+w66X7JhSaS6FpoCloS0XbBqmE78dTK0ClPS4P9\n",
       "UEmti9CN3/br8z8r4QFMmR1SvEAk2Ku2HpAzcRBQ1augBCTlqh9/Il8ZNPqiSIrB6WQFcqibDsNe\n",
       "NTx83DezBHJPlj6jtPQ3AeDKng1QR4hDja9P16Qw5jM9xtdosCdkJ07DCDS05IUZ1cCgj4tdKhq4\n",
       "dw31AwzEpQ8neywGKKeyTAwF47LJGAw34ZbI6v1NGfalBuwNHgpzCStx/aUH5njEeudRBqHht7Sa\n",
       "w2sYGT4HpSmSA8e7wOwYn9snZk2Q8Gts/wYFUbRmQRGyKEnrxt5slKa3DL2aeBdwb3hwR/oyVCJv\n",
       "HuRTaty0c8y9LQHRQUENL8nDsHexuBMnLVr/FuvAuiqKKwFH8BeQzxQz3g2SURkIf6F7icVesug7\n",
       "2Ch2L7T+tI1lDaM0SUzB8tCKQTnZ/gywOuAUppRYi6p3FQhySbP2inFioDqfEXDy2vFsvQzl/UFJ\n",
       "Vr6a24PryO2qXj3tlF2Sv5Bizl/JYAESD9+fPeii0xEJ5U4rQ18QWQavo4Ae82IlL9ol6jiQz9VM\n",
       "UAfBt5ixhC2wvS0CyqP+UID8hPa7/U4cPaQwAcP3eGfUo0QgC6iC5hgG2ZsMND7r8Y0J4zDnkAAc\n",
       "gO/TGDSNw706wJbO/Sq6eexFnjB89lbw1n6FrPNX/rXYSFb/Mmc5lEjV8BS6MxV/9/NaF2uTXx+k\n",
       "aQuqQLKhKDqYuuylxxgMktBOhYs4M973CRLBdGFAq3jRvfB7Y7NGFkAtFkZnmAudgP/idNAH786B\n",
       "xo129TkzpxKMGGfApJ1M/1de82DRueWYwxAuIPaMxnJ2n2jmJ1WlSk9XhYzsKfdJLFU4AC8BBaoH\n",
       "e3bMOv5MLaN93qoDsPIrt7i5da0pSFGPFrqXGVfYSVtIToBGpMbI1HPBOaqg7PzcF+B5hcuWKZyA\n",
       "Cuta0pIgXIocGHkIX97WOoY3z3+zvYMzGwPJB/SpwrExdOeUFyJDG9oTauLiRTvvPmGB3kMxfXOu\n",
       "5k4QNzz5dsNGyVZlNbW9DfI9AyA4yvOfSzzHpjuiCvVC6ZU/gkqjav2rC1VmTHLWuuC28WlY0mf6\n",
       "j6BdnUcUWc5Ig+ZvRp/gV/ECXOwPy4bZrQWerZh5ekmfg3BGbj01w+lLpJjiwKp6RCYTWACxU/n+\n",
       "gLFMPaTWfz8rVbwynMa9yyRMO4sDBF4uQM9p89Ni7vaZjY7Y+NAOgHXaiKzU5zwxVxOVcytu0+K+\n",
       "d0XDK4q+RMVDtGwi5lQS1zmBYLeZa9Sj2JVDqoie2oX1tz7lGxw7E5tBNMwYtmSrlLOaLXLs44So\n",
       "cBGeP+vYZQqXYe0EAbh37fk9WPv8fUA7ewOU7GX1wta3xCz2w6zwo4tbN9FJG8avK4Gv5h8Q5zVZ\n",
       "nQoU37xVyJr6cP3Bgb6gMw6Yqzbs2SA2DYbL+1Q4RG0Cmwb3JDCoAAHBAAACFEGaIWxD//6plgAq\n",
       "YmXoA2yGv/RnE7GGKUFVgfpGYks5D2Yq9k64Yz4EHgTlMPclkCD4rAFlW9otakBkMkOdRGDVhHq3\n",
       "l2s+k0d4LeYyAWj3+V38F/BzD8FLIg6UUbQxW8FyZ1n0/YXvPzR/cHBReReAmanD3XyEo7V5Jg4j\n",
       "nZmQJk3kmytALOTaTaHpTfYCD6vROqrBG6EnryvN0JVmbcAZe1yEGtdzb+X8lLIB/5jZan0RXGZH\n",
       "uOXhNv1v9haMZOiBcpDAd+6nzcJ6R8dV6Tmef9E8kUADqh36RKtvUrzrV4EPWyk7qrz6zIbiKMH8\n",
       "Y6ITeWnVKXFn8gAAdf+88VFwQvy7nXekWGPmoHaX0Z3Inho1vecE8qRZtSpSGJeuDuxubGhNBtVx\n",
       "fWhH0CunGqIKqAfCab96c2aaPmTCrYWcDmvtC+7EPvvgMqGtffcUynowW/tX+tn2i35i5S3fIuVT\n",
       "RUxtUEwz7FODHsaap9595tPaS3XsjocDvFrt9hcLvZu8kZ3nkll2MJjAE7NJYB+Nn3MuaNPB1Uf8\n",
       "1QJUJAK7zxvRR6h/na0Jx2WcDklm1BM4s5+HeOtTB4HPCLEjqnZhUfYQlTnj4iKJvYAanL4ACGwA\n",
       "AAMAY4SFAHyogENW56QHd2QUun9JjDw1muetiDHGSYqUJLNRaXjwxJ9/5J38BD63G9VmRXDCSwO2\n",
       "zcPtxw6ka+AAAAJeQZpCPCGTKYQ///6plgAEwC3FInrnPVDRoCPNJvVn1N1G/w8z2wQO+RK6cBp4\n",
       "/NLVEz8ZiPHbV7eb8ECMMnLTS3IQJjv++5N5KVE/636uhWowjyUu03vJvOMTq839kILNtbkYMLPy\n",
       "Xuhi8g/TjJ0UdTyvxOtV25nru1i23O/gRzbFsJBEb4kgVyv+u3hGHIdMXPUpLNaGBwXaVq+Ku1zO\n",
       "mb7oFV84Pg7IbpGBOlFMiJgEFurqMiZxsLWoNEnOpWY5MlYyzN7RvmuMXV/5NHZ3jGk9PkvziHIQ\n",
       "vKrE/J4UFSNU4W+4Sq4gMKkGtwFFamhWldsZyxYaJXJq2Wels1ijxvs/qHZ3Y7Q+44MwnFt2/DcS\n",
       "LAKlXyXum/Mvp4ap1h0DCCAgHlMmk6j6eoJ4TcVomrou7ahE5V5ExeZXgTk0pxH+LOW+W+nOSVr+\n",
       "DdK9jhrk6hA6gmYQKGETNY14u8iYhZ4MO8T8Aq4r8pVZc4k7bPMpprLBtk8GdNohirwHq7zGJoEA\n",
       "K+JqfUpEUeqcsO+U1JDPPrbPFecKWyHk0rM/++ACA7u3XrIxDWuf+aclpLT38ZR0IOcYNZ/xKF+z\n",
       "l3zK35yVpeCpt0Ikkbz1AfBaIygsjXA50ZXCgv5G0ggYRvW+Ag2yG+0xU7JWlb3UzxT3/w4YxPu0\n",
       "wg6BUFDBGEYfYwjHvtcFcEolDILnVtUlnTQv+VLUVSGysdliKLkJuesCV/dFYtzbG59AV2gJGPye\n",
       "jtBlxpB8OVQE3Rhf2Vk92l8I+unlPs4hctKhdbJU8iMZrgEhF4AAAGbjKMRAAOmBAAADJEGaY0nh\n",
       "DyZTAh///qmWAAAoHTbQAcb48qVZCvr6TpLN6a4yyP/+nXKLE3VHobKBpkMnTMPOyhg5N2wu4NQs\n",
       "Bqm1eXV9rZe0gwJcT0ONT62nP7VFnIHM3iGr7i+ar+Ks9yqyto1m1aIeWyLpx0cH2Leg0cDDIkBP\n",
       "Z/UUZfH9cwQ3effa+1bJxkfyB+UIizVAMxMDBZp9S0F7dHRxizO++hSJB6wANYMfdVGsruupeBuT\n",
       "2ST0bsJMgtJSv2ygskPbskm25mFsSAnBvqM8wgnYkcCsAe5pJNy0bd1QiB8SKk95xAAiIN1aor+H\n",
       "M/BAxmD/Vve3CI/qbqDLVlGHkEMzqfpRevjIp9O9KN5PCN7kq57bmmPELgOwVkWysYM4Nx2L/7Kc\n",
       "TsY5ahXTmObhdOrPIp7VXeW813WXRjNH8e1loASS4DwztH1jbOBV/t02MTTyzqjUOsEzsbSsSae/\n",
       "xF6+qqujzYepiUspvVTl3rEky/3k3xq6gLV/6Nca25EfOaY1TVPmcfQdkCKl04y8JWhzEHj0UVBy\n",
       "xHKeHtwF+I1fkwjyUTzkkvayRup4CRyiRgtKCy+2pFQtCrpC1jtn/23CDrVFH3USNMqJKj9HhdUW\n",
       "7evWtfrW8O0YaTSs3aqWTOCuKz+Gros1V6Tiu7dn8JTOsUwh3OYWNxlkBQyQB1FXXdamUMLJ+aks\n",
       "boXeFrUvxCHfbpV/6g6c8OKVLABaju3HVCpJgX7TSUaHGQwAAF09J25n4D38BV3I8Y000VmEsSHu\n",
       "X1gdC0BMF0sN664rV7l9ScAIGk3yS/rMCZn8zXPiGYHhggGWIPPDW+IXRy5wXPAU6ZyEhOy0fYIC\n",
       "WI2Lx62MJ6p0W8KNhF16MQA4buI8Nbdc8D2T+P3xaeYDE5HS3xt/GNC4Weo87k9xYlryjV8yp4Z7\n",
       "L2DPsQwDxyFaJ/g8H6B6qG9YDWN16HE+E3he0L8CVpmtYhHk4Y69AAn100GXeP/Nfq0ioeAMI40V\n",
       "aApvm9tFuPx6CVP9LGvhOiu4PPvaDokFMg8vypvxtok+UgvPNReycWBMKwM53uGvALT2yoipUACL\n",
       "gAAAAjJBmoRJ4Q8mUwIf//6plgAAYqW9Ee6QoNCOqhj8Re93PX7xLfh4YCAETXYD38Z6kLRRvNrM\n",
       "Ie39BQmWK0nZUJladIlcRY5kSAJuJW/Y9V/9ee4Ce2g3qAl2wYJmrCHlNMgDUWu9nNHBbGD7cxwl\n",
       "eVwFIabJ4hqzDxPEXMKPONqtS5xrqlH+Yg8/pdQXtFp4LQHT2ngcXWizW8CxbGR81LkHVJFPTV9p\n",
       "xlH9++w1+pujw56MTV5EdVc8dQ6ty2wozjaSet4Gl8WKoe3GofVIU3tKbz4LeObo7An/s2smBYQI\n",
       "Ay/+aKTiurWanU/XiZstVAbfeb7D7/TD+qQppyxrE8t2Lu7c/e9kCBMccZWZ9ifSd4GZIoi70N8m\n",
       "lvdZbl6tL/Xhor5uPmQde/JtLnUe5URx1VK3uOc2LFYQ0UL4+Zsll7ElPRL//lUONjiyW4+rhXT2\n",
       "uamDxyuvI8hjYHXQUpNk1Z0q1DAi1dDxhCGxUnaPAQlWl/I1k4y+kEHV9ttOhsgBy5l3pJ0dpdmm\n",
       "lfqpen77+U/+kAVy10fMuiRP0D+LSY9anks2ltRf7MUAnUOVcF3U4FbPYv1YWCIOiQGFxyVIr3zP\n",
       "vRBuKzftUyJS+y2SUCaqD8bkPUfZjXvOgW1H+iG4KigDvb73a8ZyrzcfOtu2ZlaoNwLUbu9VkEYH\n",
       "/+2NjDUTed6saq5yy51RHIFr+uAXie61OROq+adzeJp2hVhAOOPZrm/v+JBFkh8AAIZfCDphAAAB\n",
       "PEGapUnhDyZTAgh//qpVAAA452SKozrEhDFFi+7CCqe+5rIKpvu6BeODI5w4p1h2p2STVVP8oDwM\n",
       "fiWe/WSI4rO1NrAgBMyrPRo6jCPpHUCiRH1aIRr5D/y6OcB3/3HK+f9q1y9yFGWHS2edWVYb9KmM\n",
       "Jlk7TrC0cSJYZP5ed6yqxVe3fM5He0VbMUVOf3VGWrJHBDBRlXHKe8YSoUNh4IOHPPlNbGV69bkJ\n",
       "XWVT0iwcNtmJUVx1+S7gF20uHVCiLN7aozufHImqn0i4d1V7kzJcMiEsnXNhSm334qmnd0TSbWH3\n",
       "rj+5ntT/BqgtEKfFX2oVyT4SaC/x0m44FdyqQKSY8XsEp3c2Z75aSQxk3e1HdS0PF5pEBWhcw6Yw\n",
       "W+yxaOfEKiNnXolmPo38qd+vMAAt3rDXucC0RDqoC2kAAAFfQZrGSeEPJlMCCH/+qlUAAHoPA593\n",
       "o+9XU7rdWZa3VLGmRmkf3DHZlab9z+ugTaa3go34/xCHKv/iN60fA3ZipBftK/x+aqkrM9QnfeZa\n",
       "p97qghSC2/g8/4MAfBgMP9e5BQV/orm6TgQuG2JUot+wnANk2GbOw+16TVPL5jayJQnVKAzf4Xld\n",
       "O68RBIOKrYdvP2jZR/Laa57rABayE9JG0LrWEbJxUF6DpnbgxW/O8Xx1+BUxHqhJn4g28FekKT22\n",
       "eFO7YWCYz529z8Qv+YMcEPrp70YqRaoQcD+8ttKV2lgwKDZjD5nRqkabXzYMyBYhwRx2djS5pHUC\n",
       "YaYBrhgrP2vV7lLwV3cguL4UatgiPvsEjl7tGN76TmrIOwzHvUjPkBmv1cDXuxMASslSKpUlYEmi\n",
       "76+ie5sbfO7PUo8oF3OQSEux+plSKPKkm25LcT7nEhkKI9JcBqu5sEdcEHTBAAAB+EGa50nhDyZT\n",
       "Agh//qpVAAEAPmpStEzrEdGWDFrbFnpzwJK3KS/AbuY0lJN8qfLORU1ovXMHIrAGrdT4qKjJXw6l\n",
       "pculAho//WffJb1jsaQyixxuOl6WwVXY58VPw73yOHCDj7BnKJ0puyNh4VD0pIoN8t9tJIMVPsGH\n",
       "Lc3rCxIPZb9XvXjVpVDozSQbVxvBo90BdQHcxTeZ/ev7HH2XPlOOypn8P1GAkS74/3e0Y53IwmLK\n",
       "Q8Ln60Q3/c8zPK8jXzLEHiX8araKsc/I6CykxU/usubsDPlYzgpxYx3shVrISlZwoUyuHDvgp+wd\n",
       "Yi5dp5VndNLjg48HytMNDgO0Fe0paLKI8OzHL5nuzCZjsCRcTNPCGZ09OlYY99PbnfmagWMY54E/\n",
       "fWUd3U8/zqAWaBwcWyXaRmuZWHYN8iALpVHupHC+S7JNiIG6Ph7Z6azLx8jyJFbaM1qrxF1Wej84\n",
       "lqm1It5J+7EVDfbplkLXEZ9qegDUJKfwGrKC3DubdUzVKBKCdnX87pvaX/u0HTyr7YbrTJQVgTGF\n",
       "mLdB+WOIVZaC8hETYj6CgenXS7cwjn85Y3fECMWX8k1A/+zh2DJFXOExEfjbwb3ZrxYm3o0kMvpg\n",
       "fOzowMNRtvNHcdHlmWCwUE5W61RXIxat70X+9HLW1VnMrXw7F3Ja8wAAAaxBmwhJ4Q8mUwII//61\n",
       "KoABCf9ffbQSoOOcdbDKH1xWQU6C7c8kHZI7GCixdb7Hq+DAdiHCY2Aj1ThuwMLPG7vhaI+fa/n0\n",
       "hBKTT6LZkL5eGpF8NG8Zvi1im7SzkCV+6fqRdwruVvu4V7ynZkrC3ahuAeSjXQ7SEQWm+vQskzmr\n",
       "nd/DiBwePg4ZjiueAJ5POcMP+FCx3O49iDgNTaJiWCnMNwJgaAzeFZyADYFxRf9mu1ZS54Pz1WG1\n",
       "QhZxonB/oNBLcGv9F9WZ9uHp/nqYBdz/p3RLMrUVzXuR13jbp7uiI5+q2N5smAu/b+GsucYZtKgc\n",
       "E/1GwEoJ1pqXol1nvOvt+Cmv5agySfi+NUqBprfDRT5w7fg+Jb/ZF2Zmb+uhu7YM7kbEg//bSFBu\n",
       "WQGMzoPnbhrBtiW4CfsvqnCdAo0+6Bkalwa0C0LuDVTbSPjkmqxVR5qZbbbBgOGXAJ/bVzzITTpL\n",
       "+i71Lq0LsrJqpEGCgSqES+GP2mkoxswJG/+OYYKrL/NNATKdYT77bNTVeYiY3DlnMlioY+iGJrsE\n",
       "4CWY8lKuLRP/Zv9LrIs1IAAAA+lBmyxJ4Q8mUwII//61KoACYN8hABfE5IgzPGZSD72qlWaLsIJV\n",
       "dldvcQf3mAaI668fhwMf55VseIvw+cn+M3P3/HLOesnKrHQ+EqNx5/KBr7bAEYwzSO/LWG8csH+f\n",
       "roH8Xqr2vjFxleDQvlBSuHLze5VHFNL1uGf9L52//FC1grRkyzO8FcO2wjUI9r7yb5BAF7phB+Qa\n",
       "tLMl2yGR+rcLaDdcLw93l9xNobcISMxLooKfntiljYXcW7B3Iaxlw/l68Cz8xndfjDQlEwb77Lyk\n",
       "ydFTDQWe5BfVoPklm90q7X0Hg18745IZRB4m2Mx2EEds+v/NdiLh14n2im/BxbAAeIsBq0FubkOS\n",
       "ZkGaf3fKMglDd5SW2iusOdDDjXz75+te47dls51YkoN3UIY4tUqWWXWSL6Zt3YgBmgOyL3J2avAp\n",
       "gYHmz1b7HqEEbAjhnRAsojE5zZfbx91VqioPyMTpAT3gwyTjKHjLfNX1BtvEM4ifXznDSj/CTXm+\n",
       "8zY11ZWXcOkzzQ7DdXr8XRw9Tb87yb0HrNGvMbkrUXVfddVsn1SBYoPWsrVeIChyRfdLrsqOm0fw\n",
       "UlNreL/q5FoC3MHmCMhZs9wZBKlZOxGrwtdZ8B6xJauhksBZPcSxnPs6zQ3TNXzAE/bw4NEk9mgX\n",
       "+mQCDGGJ5cIgmOzIuoT/63vDnlPpLv4b4uRlFJ0ES7ZGocopOIPZs/1xOsBL4WJM8Nh6q6VqlOvL\n",
       "FuFGbY3XSt7oaLtH5AK52u+ATJU4Pgatm2wbGVxnCdyoyHb16nvjgW2O0Qwosj22wv1tSNnDXdP8\n",
       "QaLxug+0owX/ZIjqU44mGrqnX+PJRr2Yzma9KIzUL73Psy8K/9RqM3vN+jY/yjfu4mUOlA4LDuT4\n",
       "T1v1RfmkSiswLVW/5jw5tzwk7OT9K/n8SgGaOXzuVSp4oDSC2ZNonqOaarjexR1JItXyCcpLIPji\n",
       "far4DTQBL/7el+8JMv7fPBxXAOXT/1dn4Pbg2slOueObjQe28yNxVmKXcFxKnn/o7nzJYCVFxJ1n\n",
       "pNWtj1E+ixPwXOY85ZN20GlQ59NufbWAzT9vSN9ZGGjkIuu5imFm6phzfACukkNXPFjPkRFr65IS\n",
       "jHxQq1u8Ed5kq5vY2RpxS1+9wDuRd1Dk8pt1Eu6QWjbR02E/rhRbQvOs9xQlZRgkL1mLVrDpsU1N\n",
       "C1cdAgLu78GQwdgDDEzMeDBvunbIp4Vd+tNUvWIGfjye+z+9I8QM/QBkSYGziJ+jFW289eUzY2E4\n",
       "yGms7wZbpNLpJQgsWybY4Yh1DPDM81+D+NwU5lK2tbQNoghdcP6wnZabKLeAAADvfhCtgAAAAdhB\n",
       "n0pFETw7/wAQ2ADD48Ektg8zSEzZs/sc/V+1E3EdwVqpWd4iY/xRKoi4yG0jyYbO589wEKvOtaqO\n",
       "YwsVofAD7U3gxVMrYRclf3oPj2DUWnb8qjj2Rk8Hs5C/P0UoH5oL877ZMN0sHAVStAYWcbRO+DV4\n",
       "atimn4qaD11msABZVuGGXg7GHEmHN49nrTnrkE2ENFdbmiUSb0mIkrcNVqPbXQs/rCPicDjTK0Zp\n",
       "t8ArlwlpJ9qERrIR1TtksaJk0G8bV+ncrv5KsQ8KjNrlumk+Yk5foEHubHgcBxR+hhGqXmUM+rjm\n",
       "xOyy7YzCkZnhFUz1yiJJ0Xnrd8ETbf4FSxHVIHgO1mzJPQ4AV9Q/7EGDy8xUWaBW/i5a1nIjqrMc\n",
       "I1tmvp6bbblO9zfnENjfQQ0K+Xwdji/6TCmkYMewK8XTa5sAkDwj/POUyTB5OYafLVY8zbOYlmnG\n",
       "m5BTBhFZltpn8Ja50EtAjGp0dnW/92uJdPv5NyYMBN5vaOCfKMacPjCa1E5EridIGbBfc7SAyx8w\n",
       "uIydo68DOqDJF6AjP/arMs+USl3MXKJZ71E1zWctqkXGfqV0h5DW1U8GNgooVDWV5akUYGuFKBFK\n",
       "pxqANkgk1ogCYq+fiNJZAAAA/QGfaXRDfwAYfrA1cMIldp5ZE+aR6TyZWamqQAlrUqR9I+xTJ2KZ\n",
       "WyKXbsLrmD+mCjRCi13mcnyugepKTSQ7l8iDh4osnxSZP1BSf+qGKSMv535Ryg3OYLfZW1810GkG\n",
       "WFCqq7CZPmP4eKco4nb9ScLN5JyFmg82EpURvH8ZPP6QDM0q1dzfELsqi+M0pAdsgDdDWrZIalg7\n",
       "WauVqTXO6pLZxEuj70cvIACOGMErND9h6e7eP12oYAVx6pMPu6hMoBILNRwmyujy5dHQcaf1Ktl3\n",
       "xqPwXd6DG6N6xJNt5vvwYXXMRHccDJ0R+2RQWZwrw8i4ikVGI6vAOOAAC2gAAAE2AZ9rakN/ABiC\n",
       "7NIhKGEXSuXBNxWAb13xAARAaaeocFOpgusleqZc1S9PmasseiHihy9n4kbuqE21lcIZ969/lUKS\n",
       "kfoHV51STUZG1AwHB1IOjX8MFqVB/JTH95EbqIlvCs2JlHq8WAYVourYanTwkjiW+/Ebce/wlMzP\n",
       "+Y4epV09HYQ/Jb4cuGpUlIhVJov8plKRzc1AYZ3B8qet5vit3R0L/AJ/cETnLrZnaNGgzZxRKwx1\n",
       "Gmlvu1diKqTwgsDoWufIeVXipHysWFvHaCeYRNyNbJTj8E4CRbsOSSvmcf4VdqzWtOjB5pQGMsW+\n",
       "zZGOZWJOCfPrj3x3DOhneZnQQLFpXcBoygjDy/PSL3sovdRB7NHKAl7P3bYQjM1D5c9bKTeM7T+z\n",
       "JR13jUEc0FE3ATcL2AAMeAAAA+tBm3BJqEFomUwII//+tSqAApRP0gAsFwxcVdS9yprSILqHfjP0\n",
       "T2HhyZOvkUGjrMgUZyXFUOaBB3YZtudGAV8fpIpL/ymIYTgZpeTP5n5QaQPBIoNLsOlkkbWXMDG0\n",
       "G7WNlP4TlukXH2fEBdwuTBWelHu8BDm+PW8wtCNxmWcDJXFZDZ/4esLLZom0T+6g1LLP+Mjem9iS\n",
       "e9yAZM+7seReZToAKZWuSdbaVVm9tvYk4RlPZnrZriF558eVOKGyMX9gvYwVh/S4oUsJ/Lb+aVjF\n",
       "+GjMZQTSpQhnud6knHH0r/u8W0JdB6iIOvjB1KqXtT0Ipf0eujux2Fp7GLcXegQQ17WX4FiiQONV\n",
       "md4AJE2xs29r82DsbURXbt4G0hLxhQQ0RIsCP/QBIWgwYiwdtNTAvj8GLM8lrjPDe8q+egbGwGZl\n",
       "EH2YIlWDh5GZVkedWVMD3yz1R7MWQFLy0sbDePM80ukhSO5pXPMlaRqZwGcxnhlsLLCn7t1V0Kii\n",
       "PTWDUpuREzS+Cn/zPADkkqrFMr8z8q0D7f1/m6XV11aeLwHjWu6fTkOPv2L7T0L5BZ1W6C4H+a8w\n",
       "uqwY/rGrd4TK9FS49FSlQS0ptjRQ2i4lRqr3kPQKlptrrReJbKIOZgWgsjElj6BQs4zx50cWmun+\n",
       "2cyI17slShVDbNBVmTawEyFnr00o69zvqYdVt7gD9Hm9pJxsii1mR4PxwwCN5g4FUPOItUg43qHi\n",
       "vrQN3Y7VrFKaIglQLWdWARNsjtV5O+MgAzPkdbmoWGJQU9/PG0oqt8EnwDR67BhlRprXe9jiKSFY\n",
       "1MR4kKrTrwI8ovrF3lnEYUlOTNgfFQjTyRz+Brqu8O5UHB7qE/QCfYtdyxWu2lgp9pHGLRgNkK7V\n",
       "T4S5XLKbk4LmzrxNsX/4JxIU2cEkADpH3ryz93MZjbGwpFboU4NYw3PYjiFfXwP2lR8VpEBXBTzA\n",
       "zuqwTPR7Hcr4oDwAIjzey2BNSNnRgOtpYWfyPptU+SbVSr9g00iYMWbt3urfe3FLtVI3ESFpxR/i\n",
       "nie8q92vbJkm/V0HDVAbLhsY9aXwdOWtBOjRSQoZHsdhpC5X+p6BIXlS/9ukG7bswJvol/F8xPF3\n",
       "chWJAxh6hQchVPeNphJg73/g3OF1aC79Ka1nhJIDBDYFHkib7up9q0+oxvznuQv2PuqI25CDcHm2\n",
       "WUtdXJSbHlYXsFVZrTUAVml2swqnm7c64gyiqYVU/SEXG8dA3jrbPyxr0LmRSGUzBuDx8E9mEKbo\n",
       "Pp0seikQvTFwAZ5SrSrMibQ71YbnOfgCQLyuiYLTdqksh6HmQmiEZZ15wfqcla58f34dV+YhAAAB\n",
       "0UGfjkURLDv/ABEKVGYK57KWpA1LwAQMyqz7uLacl5aYI+VQ2h2l0TVaPszD9fxBb7l0aUgCmcoL\n",
       "YFxebojl7+WXYTJuxfJCe/rW+H8PbTSbq9l9OH+uyH+jIENkgCW91eHUiCxauElVJrGj9lg7/Y6t\n",
       "kXcbiCQW92K4ksv2O5Q8WwKAZvCGVyf1R5bXGbcw2gfI7R2/qiYs31X/3Sv8tfiFt+t/a9g6TO46\n",
       "brBkGcyiiXxHq2ebVD6Gd6BdBjztAPPtUsbxznyxkmqZvBVRAEA9rytG3tr3whnTvu0p7FjmYHVm\n",
       "dq+EcfPUQsQ3hVbPS93Wh0SmT2zI4mNlnxuZdMa+rwDb8fPbKkE+JirZ1pEJULeO2SQk/h8xoy99\n",
       "iL3ZNKNggYYaIpwmGWiKdi6hS44puYwMx67N8ls9yLjbOzlCl5HbriuOoG5JMc7ZgTD6q7vFt11X\n",
       "LMxR03lGiLVuM/QrYGHw4WKHM0X4bBkrVhrS5U6PbIr7ORz/w0Ay8EUOfSS+EkGQM01WjZWEyfyR\n",
       "1eH35+r7ea9/XNuIKURM2h4Z2CKyy+NbGg5Hr/+nsACOLp7BBkepvAiIzXuABlLZzl7foudedNoC\n",
       "imSnZ61Vi/yuEQAAAW8Bn610Q38AGD7uYaY0gRVT00nr8lQAiC/FsPHwhC+vCG4RaYhwY5NMJJbS\n",
       "+gJMnL2S26o/YsguA/clFc8BYHEk3Gp3YTXTbigucUYeMzvO1NpSSv9G3Ujlg+bQ2N7biillzn1R\n",
       "AYtizvoy0b4cukikcKOzqlFJGcC8Wy0tnAPkI2dxaT4EQtI1iXScLaZc/G8cglupW7mBzjvXtpoI\n",
       "/30MgCJyZ2YyfhcArBLSrDTHoa6BCR7bLXViaavz+ERyao/LkqTjZ3m7xZ4KX4gRlinlydlADCLI\n",
       "cI0+CtdHdC3gptAX2ABjfRM/Kyf9/yuEJg0+nRz9OOYWXB6jdcFhCY9Pjj2QIMQvmgUwjUmMvo99\n",
       "XEVb7P7Nouat4l0KUuCAC0NC0QMvVWR4fPaAXeoHy0q5IbQfho2DOi3taeKmoipFd8IcOYFHa0u4\n",
       "JWYiUekVACgkSVNj58e+ZCUT5E+/4XfQbUH0AC46B9/khC1bObsXAAABFAGfr2pDfwAYPu5j4llK\n",
       "WzwQAEO0O/7MbjxzvjOzFnNVbs4MZEMHWtb8WRRnRv+mE0vkH4EI7ySXXlq++OEs85FptajiVja1\n",
       "bWGbJP43+6jdviL4Zk3Sopmz1Sv5sxRoJPLFz/rrJdP11FE8HEeSJf4lWkK5U/FtRKpMYLgXOK4s\n",
       "wQTDC7yrPd6Z+uIjxkVHRy0gl6SyWR64gHRDA56oZuFXMd/KWPhsfOU1QOlH8iIrrs1Y5/+bvTiW\n",
       "5nOlDkhjdxMyrhZpI2aAtYtKo78rErGfZbgG6Co+0/k9ozOVRzHT1E9aKuPH8CPITXS8i4lBwPvo\n",
       "oDMZz7bjUIKe1wdW4Pg4qxapB8KiGCK6EZABsZg1uZZS4AAABCJBm7RJqEFsmUwII//+tSqAAqew\n",
       "mlcaqZE/OAAbqqWoBx8Darm2He98yAgj/+T6RdYRqQkGkjUnQ+b5zEW7/wELRiakH8usbgAAnWer\n",
       "oUyD97A1hRnVPR1CguRvRSYG7dnpkGGmBAtR8XDGIbzIFnVZor3BuIFKyqiqJh6BF3qOkoMMFUXr\n",
       "68RUNoW5Il8t/0ldqvdXm4o17ZISVX0c5BwaPQvIol/pwEKdrGvEpdAhQ5yU0FkZWPF0NwYvA0ew\n",
       "2eCYbe7nDm83TQi1b3y/qIs4d3YLGdOQy2+Kh/1tecXyc4+A8Fmfsvpv7v5u12A8PRat7STd1dgy\n",
       "tyndyNXcjl1t8etXmXwhk8hDTyacEVlmnOJzkxTSM5T5rK4U8IPBcS17L4QA1oAfWCzXrarBWieu\n",
       "dqTr+mBGBDa+oIMX5qdi58QQnS5dBkIzt9E7Cakr2QHHH4HXf9kDt2CuhbG2Vm2PIm2QbbeBCiiD\n",
       "LaEdnyzofAytjUBhFIAyu9EcMUNNEfP6xp2MKbUXejAM1lTfpXTmdBENePxxpenNi2JwGqXLLDuJ\n",
       "RjSHdw1eClZUcDHZz6SJ4saZU4we03z84i5BUGOCmuSui2bB+mkluaEb4jRMaD2TfvAp9YfHXg2p\n",
       "KeuW+zK+reyGwKrdyJpNo7LXWcHevhkkoabc2vbKYj+pf3fHVKFjzjpJS4j89M0QRz0/QNfUMJ69\n",
       "au1nRFdMYYPLhBHU3J6gQlb3/tyjwoQFknFJDZCnqKQSpDWdv1T70tp43EJ5RY6AReWJTEuNhyNF\n",
       "TXYxy7EOQCqw9lkoeqVgbagiWv/+t9NzEzBcLekNN7z8W+XJPx9HRmd+iUOzve8bIwvDGyK8Wz48\n",
       "JoEJ4fCbzLgJiD4Yn5M2YKka0Ua2h3fvdq5Uf+YUGquAgL0TVupfsO966kreMA4Ku4Kb0Zt7W14h\n",
       "ItxKA//eRjTpVaIzybyKN1VYniupXI3e/NIitGNcLQe0+89sDfqrMIeRWWxc0Iil6Awa0SJW20sp\n",
       "wqZpoCLyT/U5p8VkdcQoR1KQuybfyfrq8R0maEKpn37U/exGbRFLqSj4vk6Z2OR3qpPwnMjux8Dh\n",
       "v8rYObJ8HyY/Pr4G+6zO9skXQiOWy2JQRtDIpHis9bOgUCNZqsa7nDBQHJR/1d2k2PG6R+qZNn1o\n",
       "cwcB1bzjizjcx0l38HCyUwy2uTUEab0xPrqaKo+AcmeCS03kL1a0KPlJXvYSm+Apxk5Bax/Y7Sk+\n",
       "CI21Fe+y4D7mwQkasMSgaaaRqTCT6IWj9lQFLf6UO+aHZZ5iZ5EpWjsDB0kgTbGjQOeDnEZoFiZu\n",
       "T5bcWFdzAxGNiqPFxUnqyRNTeZFMiEZlXhw3JvpXK5A2sJqL+RbUWNM6oW8kCSSdAS75hMxrYcVb\n",
       "781khC44WJs5QB+TowAAAYlBn9JFFSw7/wAQ2ADJl5evj7Sbc6F32jCKDACS+p26L+AfZ6AHmuD6\n",
       "a6vXRrVaBsLXgR1q+bDwnEcRotbV5rbREsc/sWNb7UfNOVFxbCHcNwWkVe0DgLyK1c38b4xcRVh2\n",
       "Zi9XlZUBSdPNoFgAFyQQ553y09y+Wm2VJft4EoEj6f65ociEfBHp8yhv49bc6OSa9vAXlQpM5fdP\n",
       "dT85f8DjyVdrcClXFdCcsl3LYCIPQrtQ1+Uhk39UzyYqEmVH4BK/Lp2ipRTo6J395yqb3QeA/lZh\n",
       "zADvs63mduGoRDIB2JaJdegGB67uw64e3vJo2jecJu7CH0QIxdPcVXjZvuzeUAztz2RYAxKPswG/\n",
       "nwRdU6pxLkuYsKUNBPbymnVoMZTqknhdy/tavSROtpDdlw7JrDbQOHzJ4L8EfNufVKzMXUdkL9vs\n",
       "qjMjbFd8c4MAeOu23+coyPhxAJgceAhb3iuXB83Q37yRQyQveLjcDzm2kSd2+tdtx0Js7xAfdHgl\n",
       "Oq2mm4scEo0W7PkAAAEUAZ/xdEN/ABg+7mZUh3ZqZjUGPLU14fAAIIbpGW7LasXCReeUXJKDO0v4\n",
       "FBF5t0qORD8pNTOEIrYAx9C7SVxSaRonrGspKosLnSO4K8ANb+rOYv4THKHSVDuHjC9pZ5ls5gls\n",
       "YrHtvGBZkXjbvoCM+5oE3rJUxtEiCHfdilemGJp9NgcuuYL5zzbAcTL0Z+ipxIMDlLfYj9IAwvty\n",
       "hazEuuBPsznDeuso9hpmRtZauvrKGflYRRgiP3VC43Vo9kNiYsspbPHH5mVowaqmJfZzjwJCInDk\n",
       "QHK1s+tNODyDmUrX9PTlsmtNPd1bp3N3pWm+zaePyjHz/7lyVYpjwZxnfKqhpnTZg4WBbgOhdsG3\n",
       "izTVwAFXAAABAAGf82pDfwAYPu5lLQXCXxahSEqiviCADVxuHcBx1wypLK+xO5giLeRZFJIpv2O/\n",
       "JHAUcet6lYUo0WwX/ENuLysL4WC4IIFIPgIaAG+1xUxNlepHFon51D+vaTaDTqWYy0Ikw5oG13Yg\n",
       "0nKae5ndeZ4/p+YGdG7wsYu4Pkg/RFNdTtY3aGQsmXkKZzZYO1wolXoigPfBiJ85JPELNLOe1kA7\n",
       "jm/eH/GErQ6i4I3jC1BkrEQe+O0a6JdVlEGBg833O5/sTMs4OtNW7PWvrAur3LawwiKqcPEcVc2p\n",
       "gJfecbmy5hZdLyaxPDY/pzklUmrG/UKt/Ekv8R40cIFwioAADpgAAANXQZv4SahBbJlMCCP//rUq\n",
       "gAKphcJ/4ADXJJDK32DuM/0wPplm9g4GJLFS3YaMmPAxLxcz55+LV7Q2qUSEoL6QWguBCKgMbUsA\n",
       "4JEIlf0Z2RxfsWOFyM9zhrnPZTaHaRyPaQ8zbTPfOkeY+/cBJoWaElkHl2oxQj7lmJMB9ubtGy0E\n",
       "JvY5uq55UgEbhStjNIMVrXsjOD2nhQw3y9UJ0yrkC0zlVJ1EIcCVAoHjBSPGvRszcA3LLVTJQ1po\n",
       "XLGcy98s6XcNkleu+jpa1neLU6vm5lqDTqUW+9yKqOkPZcn+PP2L9QtOD8Md6v1pRwfCbHLluZmz\n",
       "8mJGVeoTXdRUOUGinrj3+/OPgQ0s9S7LLUWchP2r4Es5tOQYpQHeuHEqflMOTKuNvEdPLXE2RMBP\n",
       "hnfMuliKxzRxdr0tJ2FeYezi1Ztj/hQjsdMAQrLMHTcIRhCeiPr9QvQ4qTwbqFwo2BNoknxTk25U\n",
       "hBp55Ntj/klVhE9Y62YTddzVksFZszBHuKlFwQzvY8ZBITlhyTUqGXHn1d4+6L8WaVHzr/x12kal\n",
       "qDgDOa7rdJmyqw0qpnBJ5Q5N7et5PGYGvV6eWRPLnwzJb507pAmahqbi5crJaBNmj5qLtrKiB7wl\n",
       "M7gDqT0fPe+zJJ+jrJzNylztEusmlzJw+6nlGdZrs43GvAepEQDohD0scOt0lfhmqZRUhillSddq\n",
       "DW12wioeWm3p/AdNC3+eKLE4pbbDriGQHAHKzPxgkfbIN/BHoD+eNyhc5uaj5cNnUhHhFrdYM8ow\n",
       "WtOy0iu3Ozz/QquuD6kH5JoSyfPsk1JoNGkBbw7j8F+UbzxOUEYAIfeKqbNxdrAAqpUcqfXtp6Tk\n",
       "Zg9jP2lIiNj/1vB7ziLMtTZikTP+ZyebaQ6pD13K+/VnaLHDKTZPnin2dxb4l+IAXpj+92/Z9ReM\n",
       "JC494vUx1yWEuRqSkdZx0AAu1AQwScizdbuNFWABmkBpeq9wfk48itn67r9RCM0Xr744/G/kscta\n",
       "ScDKBNeqZLZyDtZZvMOz/dS1q4fUqaIgo4AEqf1XCxcxC+5mkiZeRN+98RJhW9HaZxZzv+cQNO7a\n",
       "UNNtRRM6Olhh7kzOcohXne2Hl0/hCKdTNly7xDHZhi+boed3VWNBOVBBAAABPUGeFkUVLDv/ABDY\n",
       "AMjTdRBkXdAC6gk3oB+XsoFFySO37IE61HoAYIHytY/r/luQ9pQ9mp6aXmCcN0Aq5KkG46Yobbq8\n",
       "FNyGUB3BhfomPEsd8DTYX7fEJDKczksDZDorgLQDyjydrp+DQae/qfFxchdJUeOe+f7as4VtKw6C\n",
       "VRarAFd16dxrotG541cs1Fr0auhU0tuB3iEtK7NdE4xXMX+Cj6zwy+NtjYXQoOPS6v2YUZS/1OAF\n",
       "s47WsdD72Y/Z9mIqH88nxr9O4gTRY4xzXtvid+sJL8jJPOHuPNDqQYf1UilSfNHzErRnuE6qba3R\n",
       "8l7zwwJJ1dm5WULn6KDD6rNcdTR10tANZSlqNyFYKraZIJ7IfRg9Ba0PxSd9nX/luxoX0E+a8fh3\n",
       "SUOME3+A+3PkgahjwXhU1QxwVaFbAAAAwgGeNXRDfwAYPu5mL7ypxYATt7vGRByG5/QZW9XyY8PB\n",
       "McMYSwHfal0/xhTer/gJFnHnwc1yl1bDICJSnKhqnJB9/g1dea5BhWWZM3WvxgGZAVbf6dzThA/A\n",
       "Ia+wY3GW8gHBNvQmHirU4pkljGBnKPvMA2OtYnB8453lRQOqUesbd7P6vF/oiq4N4EfoZzisfQ7x\n",
       "a5nUTHmswskQ2pcbOi3MBwPqoQi9g7Ukt+Aa6AmEGgtiTNkPVf/wG8AWYO8i4BlxAAAAmQGeN2pD\n",
       "fwAYPu5lifnrc0gA/RumOGrPYT77x9t2NDzP77XhtqggvdPc6dBFGo5w53QRJ+Qr2hR5rsHIsisr\n",
       "Nr/wIRrFxcAihynMNMRD5gLKkqVilHocakH2BDJZH0H9wN05PiEGbxdSFuCDHdDSGL1DRaOzdEue\n",
       "Vgjk8068hkQIoNXQOlpSXY5+kub6QcCME4VOTPp1UDwFfQAAAj9BmjxJqEFsmUwII//+tSqAAqfG\n",
       "UzAGAC117snW+yHpXvGJ03o/lthJJsIM6tae8B9vcMyVYOMresQjNFsRtsuYT+2GFHpmawIhMXyh\n",
       "1RHHubqfSLtwcSkWOK7r9CRQm/mOClBZq8p5xzaTvo2pt9A1CIFUG1QSnd4SVgwgyl3Sm51H8QZs\n",
       "Lb8vIDJylCbIuCWnbha5yS28ENnQG6Al4HgTi3ZnZZsQQrSWD90XGM15559W+bC45KMprQp2mjH1\n",
       "FpCHQYbo7V4pvvzGnXcvFEHmrJdNHCMoPY784B4/Piq8jKMwnE7noIiqE05iFEMSfznUnqogJMKE\n",
       "JbD+XHwgpdDPdyWXrjpNv7L1XowfDZ2a9Ap0uo9p4+hY2RXAF7HWs00chY/U8I8Gfgyn+4/7I0Jg\n",
       "A35AZ2nMrzHfbdoYOd7OOnZsR9L7CS+uw8lm+1culj2+D36yjy0c8thMg625vyCigX34YefjqP16\n",
       "27VU7+xc/8VaArHJ+WjgPVfA5QT4N27mYJOZgwg2QJrZP89B2zR5pMxFlDNMhvKMZbgj4IwPZxU9\n",
       "wQSVI5FJYMHD4ZI53uD3Nf6obPL88bV3XuotIPp8YM4qWnWkPAjtk+tbu1QAYHonnNnFRkXsFmTB\n",
       "a7xvpgHdU30OLLv2lrnY4mz2BmxgjR2AHgmL++IS+5BqMgEEADuWj03AfWtoIVPV7Kd7ueNRoMmh\n",
       "NnpKXZHiRZ5l3PhSUcV0eCHJQYXqf8P4IS2srzDyBPBLyqfGznXUGDpTwAAAAKFBnlpFFSw7/wAQ\n",
       "2ADJK6L/+wAt5Sg85slCJUmjTPYAef7ZjQ8erEXVhZrrf78fXKvZq/zJZRPuhebN15ZrJwh8jWQ6\n",
       "oz03znAoGU44vZecydh/AgqK175cAdMsMF1bVH2AVHKNFOxzu27dR6WpBCkBV8DLSnarxrd3sOGy\n",
       "Z9vfLiK/FFHftj1uuRpuUt4UBIvS4TOBO4Ew/NoOeDpMgUQLNQAAADoBnnl0Q38AGD7ubr2sCQ9K\n",
       "yUAmRHkUUZd2VoJ+JEV19u/Ur/RG0KA2JbnfxwY0/BiB9QTmjx9kOAooAAAAMQGee2pDfwAYPu5u\n",
       "p7JvChgpIqcELCo9FoaTiFIDu6ldDED635E2qsiv7D8jmIV8AS8AAAFsQZpgSahBbJlMCCH//qpV\n",
       "AAVNi0vyAG7IvJUrEjmsEX4YucOOo2YAIpoOuDU8g2zno1QoIz2uIpz0p3ok0UlLc+zo0ukzx/AB\n",
       "ggIjaT8cbiDaDe7uCDwkUCvBg4x6gmm9Ezk7ErRAvoV64v36pSehXmksC6sw8YpHFzh8u2LrC1vn\n",
       "tLuy56D9n8ufPi9Z51bH+bMY6bcRJ5AGYTSaVkhVRREt+50WmG0fSotVCbZVmTlk90G8NqJDLAbf\n",
       "FeOBpfTkc55zXO2RmXmVbvvVpH+CHs+eBIG9iKVMVr+zQkIWee14BBPSMX43yNmXteRg6jXOSM+s\n",
       "ljC+o9BqN3R1aEd/+QtSA/Z8BHROdhNCWlvejCE+cX/mZ+ucUJx2wISI2Nhnu9y344UPMAkwuT4I\n",
       "aLVPlwirO/GCXuuMxEBQRvsXR7dZgA5PKkLlMU63pJY51ZpvMe7tAOJoShODG8lm9HxC2/8PoOAr\n",
       "4e0kIAAr4QAAAGlBnp5FFSw7/wAQ2ADJK6YZh+CbsAJp6Viwss+QMYotOlf3Q54POFuFM9MIHl5R\n",
       "f59a8uu2V5WvVz8y+daYjDm93ndFO5OJRY/3tJWc3SAiWxL/ykTnVNJhW8+VpSJ+reMrYJJozvyA\n",
       "LKAAAAAlAZ69dEN/ABg+7m69ku6mo7t3cljFimKs/yIPdfRBp5nvEAwBXwAAACcBnr9qQ38AGD7u\n",
       "bqeyWWOb++CozGhleseiFeDKpEVPCafyvUGgFDEAAADXQZqkSahBbJlMCH///qmWABSmL28pgBbm\n",
       "8x3UR7qm35bka2/B7nnFQTGx/cL/7HBZxGsIhqRNQtcNUmMs++dVX5ALef4K0qYjqsk1jtoWMDDy\n",
       "JYkOycdYvMIJd1SdPwKER+EBHXzbEcwX2kTH3pFj6Y8hnHIXrAxy5RXowiGi7yVg5EdYZbRYgKCu\n",
       "IriRFkKayVSuEpn3f2RcukIbuLKJoQGsiyLYbjOBe66oXo5ym988XuykExd4XNlYbCNovwhWDOSq\n",
       "ixQ3u2tOzSxyUlB9na0VbNcfhVAAAABNQZ7CRRUsO/8AENgAzweFTzFugBLOu9AdPlyRTPgwAvOx\n",
       "Yyq2J9I6n5/lm1VX3HWaSAV/c7ivpsD1nAXsf17T2GiFbDOS7XvD/ghkYykAAAAnAZ7hdEN/ABg+\n",
       "7m69qJ6uOscDNGj1P9SZh6JQkJZYYyrqmhKfwCRgAAAAIwGe42pDfwAYPu5uwqqF+OOH4+r4wBDA\n",
       "ND367EkGXKEngEnBAAAAf0Ga50moQWyZTAhv//6nhAAo7Q+lveYVoAE3MnKthL4tabGdXacW+sH7\n",
       "KHhB1Jhoyb07i+QwqUde0cGB+8kGe4uurdepAFa/5lOWiam0Gnt1THRsBJ+7S0dYwJ1Yn6oxqVgZ\n",
       "iLOSYYGYLE1GbR7ZCbIUSvBh+f5lLekfMdw53j0AAAAwQZ8FRRUsN/8AGD7ubr2eOI6jrEVHh9Tu\n",
       "jHmBwjPNkN/lg80q8sSr9w7ooRwBwQI/AAAAIgGfJmpDfwAYgu1CQfrlTiAioibVA4JU2BFTienI\n",
       "haCAhYEAAATHbW9vdgAAAGxtdmhkAAAAAAAAAAAAAAAAAAAD6AAAD6AAAQAAAQAAAAAAAAAAAAAA\n",
       "AAEAAAAAAAAAAAAAAAAAAAABAAAAAAAAAAAAAAAAAABAAAAAAAAAAAAAAAAAAAAAAAAAAAAAAAAA\n",
       "AAAAAAAAAgAAA/F0cmFrAAAAXHRraGQAAAADAAAAAAAAAAAAAAABAAAAAAAAD6AAAAAAAAAAAAAA\n",
       "AAAAAAAAAAEAAAAAAAAAAAAAAAAAAAABAAAAAAAAAAAAAAAAAABAAAAAAfQAAAGQAAAAAAAkZWR0\n",
       "cwAAABxlbHN0AAAAAAAAAAEAAA+gAAAIAAABAAAAAANpbWRpYQAAACBtZGhkAAAAAAAAAAAAAAAA\n",
       "AAAoAAAAoABVxAAAAAAALWhkbHIAAAAAAAAAAHZpZGUAAAAAAAAAAAAAAABWaWRlb0hhbmRsZXIA\n",
       "AAADFG1pbmYAAAAUdm1oZAAAAAEAAAAAAAAAAAAAACRkaW5mAAAAHGRyZWYAAAAAAAAAAQAAAAx1\n",
       "cmwgAAAAAQAAAtRzdGJsAAAAtHN0c2QAAAAAAAAAAQAAAKRhdmMxAAAAAAAAAAEAAAAAAAAAAAAA\n",
       "AAAAAAAAAfQBkABIAAAASAAAAAAAAAABAAAAAAAAAAAAAAAAAAAAAAAAAAAAAAAAAAAAAAAAAAAA\n",
       "GP//AAAAMmF2Y0MBZAAW/+EAGWdkABas2UCAM+fhAAADAAEAAAMAFA8WLZYBAAZo6+PLIsAAAAAc\n",
       "dXVpZGtoQPJfJE/FujmlG88DI/MAAAAAAAAAGHN0dHMAAAAAAAAAAQAAACgAAAQAAAAAFHN0c3MA\n",
       "AAAAAAAAAQAAAAEAAAEIY3R0cwAAAAAAAAAfAAAACQAACAAAAAABAAAUAAAAAAEAAAgAAAAAAQAA\n",
       "AAAAAAABAAAEAAAAAAEAABQAAAAAAQAACAAAAAABAAAAAAAAAAEAAAQAAAAAAQAAFAAAAAABAAAI\n",
       "AAAAAAEAAAAAAAAAAQAABAAAAAABAAAUAAAAAAEAAAgAAAAAAQAAAAAAAAABAAAEAAAAAAEAABQA\n",
       "AAAAAQAACAAAAAABAAAAAAAAAAEAAAQAAAAAAQAAFAAAAAABAAAIAAAAAAEAAAAAAAAAAQAABAAA\n",
       "AAABAAAUAAAAAAEAAAgAAAAAAQAAAAAAAAABAAAEAAAAAAEAABAAAAAAAgAABAAAAAAcc3RzYwAA\n",
       "AAAAAAABAAAAAQAAACgAAAABAAAAtHN0c3oAAAAAAAAAAAAAACgAABZCAAACGAAAAmIAAAMoAAAC\n",
       "NgAAAUAAAAFjAAAB/AAAAbAAAAPtAAAB3AAAAQEAAAE6AAAD7wAAAdUAAAFzAAABGAAABCYAAAGN\n",
       "AAABGAAAAQQAAANbAAABQQAAAMYAAACdAAACQwAAAKUAAAA+AAAANQAAAXAAAABtAAAAKQAAACsA\n",
       "AADbAAAAUQAAACsAAAAnAAAAgwAAADQAAAAmAAAAFHN0Y28AAAAAAAAAAQAAACwAAABidWR0YQAA\n",
       "AFptZXRhAAAAAAAAACFoZGxyAAAAAAAAAABtZGlyYXBwbAAAAAAAAAAAAAAAAC1pbHN0AAAAJal0\n",
       "b28AAAAdZGF0YQAAAAEAAAAATGF2ZjU4LjIwLjEwMA==\n",
       "\">\n",
       "  Your browser does not support the video tag.\n",
       "</video>"
      ],
      "text/plain": [
       "<matplotlib.animation.FuncAnimation at 0x1a22d44828>"
      ]
     },
     "execution_count": 41,
     "metadata": {},
     "output_type": "execute_result"
    }
   ],
   "source": [
    "fig = plt.figure(dpi=100, figsize=(5, 4))\n",
    "plt.scatter(x,y)\n",
    "line, = plt.plot(x,lin(a_guess,b_guess,x))\n",
    "plt.close()\n",
    "\n",
    "def animate(i):\n",
    "    line.set_ydata(lin(a_guess,b_guess,x))\n",
    "    for i in range(10): upd()\n",
    "    return line,\n",
    "\n",
    "ani = animation.FuncAnimation(fig, animate, np.arange(0, 40), interval=100)\n",
    "ani"
   ]
  },
  {
   "cell_type": "markdown",
   "metadata": {
    "hidden": true
   },
   "source": [
    "#### Stochastic Gradient Descent (SGD)\n",
    "Stochastic gradient descent is an incredibly useful optimization method (it is also the heart of deep learning, where it is used for backpropagation).\n",
    "\n",
    "For standard gradient descent, we evaluate the loss using all of our data which can be really slow. In stochastic gradient descent, we evaluate our loss function on just a sample of our data (sometimes called a mini-batch). We would get different loss values on different samples of the data, so this is why it is stochastic. It turns out that this is still an effective way to optimize, and it's much more efficient!\n",
    "\n",
    "##### Applying SGD to NMF\n",
    "\n",
    "**Goal**: Decompose $V(m×n)$ into $V≈WH$\n",
    "\n",
    "where $W(m×d)$ and $H(d×n)$, $W,H>=0$, and we've minimized the Frobenius norm of $V−WH$.\n",
    "\n",
    "**Approach**: We will pick random positive $W$ & $H$, and then use SGD to optimize.\n",
    "\n",
    "To use SGD, we need to know the gradient of the loss function."
   ]
  },
  {
   "cell_type": "code",
   "execution_count": 44,
   "metadata": {
    "hidden": true
   },
   "outputs": [],
   "source": [
    "lam=1e3\n",
    "lr=1e-2\n",
    "m, n = vectors_tfidf.shape"
   ]
  },
  {
   "cell_type": "code",
   "execution_count": 45,
   "metadata": {
    "hidden": true
   },
   "outputs": [],
   "source": [
    "W1 = clf.fit_transform(vectors)\n",
    "H1 = clf.components_"
   ]
  },
  {
   "cell_type": "code",
   "execution_count": 46,
   "metadata": {
    "hidden": true
   },
   "outputs": [
    {
     "data": {
      "text/plain": [
       "['jpeg image gif file color images format quality',\n",
       " 'edu graphics pub mail 128 ray ftp send',\n",
       " 'space launch satellite nasa commercial satellites year market',\n",
       " 'jesus god people matthew atheists does atheism said',\n",
       " 'image data available software processing ftp edu analysis']"
      ]
     },
     "execution_count": 46,
     "metadata": {},
     "output_type": "execute_result"
    }
   ],
   "source": [
    "show_topics(H1)"
   ]
  },
  {
   "cell_type": "code",
   "execution_count": 47,
   "metadata": {
    "hidden": true
   },
   "outputs": [],
   "source": [
    "mu = 1e-6\n",
    "def grads(M, W, H):\n",
    "    R = W@H-M\n",
    "    return R@H.T + penalty(W, mu)*lam, W.T@R + penalty(H, mu)*lam # dW, dH"
   ]
  },
  {
   "cell_type": "code",
   "execution_count": 48,
   "metadata": {
    "hidden": true
   },
   "outputs": [],
   "source": [
    "def penalty(M, mu):\n",
    "    return np.where(M>=mu,0, np.min(M - mu, 0))"
   ]
  },
  {
   "cell_type": "code",
   "execution_count": 50,
   "metadata": {
    "hidden": true
   },
   "outputs": [],
   "source": [
    "def upd(M, W, H, lr):\n",
    "    dW,dH = grads(M,W,H)\n",
    "    W -= lr*dW; H -= lr*dH"
   ]
  },
  {
   "cell_type": "code",
   "execution_count": 51,
   "metadata": {
    "hidden": true
   },
   "outputs": [],
   "source": [
    "def report(M,W,H): \n",
    "    print(np.linalg.norm(M-W@H), W.min(), H.min(), (W<0).sum(), (H<0).sum())"
   ]
  },
  {
   "cell_type": "code",
   "execution_count": 52,
   "metadata": {
    "hidden": true
   },
   "outputs": [],
   "source": [
    "W = np.abs(np.random.normal(scale=0.01, size=(m,d)))\n",
    "H = np.abs(np.random.normal(scale=0.01, size=(d,n)))"
   ]
  },
  {
   "cell_type": "code",
   "execution_count": 53,
   "metadata": {
    "hidden": true
   },
   "outputs": [
    {
     "name": "stdout",
     "output_type": "stream",
     "text": [
      "44.426800717121075 4.821773415879394e-07 8.290587863967369e-08 0 0\n"
     ]
    }
   ],
   "source": [
    "report(vectors_tfidf, W, H)"
   ]
  },
  {
   "cell_type": "code",
   "execution_count": 54,
   "metadata": {
    "hidden": true
   },
   "outputs": [],
   "source": [
    "upd(vectors_tfidf,W,H,lr)"
   ]
  },
  {
   "cell_type": "code",
   "execution_count": 55,
   "metadata": {
    "hidden": true
   },
   "outputs": [
    {
     "name": "stdout",
     "output_type": "stream",
     "text": [
      "44.41898441472066 -0.0008849482423339409 -8.816284644794796e-05 138 284\n"
     ]
    }
   ],
   "source": [
    "report(vectors_tfidf, W, H)"
   ]
  },
  {
   "cell_type": "code",
   "execution_count": 56,
   "metadata": {
    "hidden": true
   },
   "outputs": [
    {
     "name": "stdout",
     "output_type": "stream",
     "text": [
      "44.41333510787703 -0.0007814340301332738 -7.243928762946151e-05 146 271\n",
      "44.37534134985301 -0.0004805841555981169 -5.277406121604748e-05 57 518\n",
      "44.34675606899547 -0.00018300161803994167 -5.677897150890787e-05 23 961\n",
      "44.314850550765584 -0.00014371756573821527 -9.250648842341036e-05 23 1556\n",
      "44.27969392304737 -0.00012632967050584356 -0.00011022328196614114 26 2196\n"
     ]
    }
   ],
   "source": [
    "for i in range(50): \n",
    "    upd(vectors_tfidf,W,H,lr)\n",
    "    if i % 10 == 0: report(vectors_tfidf,W,H)"
   ]
  },
  {
   "cell_type": "code",
   "execution_count": 57,
   "metadata": {
    "hidden": true
   },
   "outputs": [
    {
     "data": {
      "text/plain": [
       "['people just god space don like know does',\n",
       " 'god people don know just space does like',\n",
       " 'space think people don god like just know',\n",
       " 'space don god people like just know think',\n",
       " 'just god space don people like think know']"
      ]
     },
     "execution_count": 57,
     "metadata": {},
     "output_type": "execute_result"
    }
   ],
   "source": [
    "show_topics(H)"
   ]
  },
  {
   "cell_type": "markdown",
   "metadata": {
    "hidden": true
   },
   "source": [
    "This is painfully slow to train! Lots of parameter fiddling and still slow to train (or explodes)."
   ]
  },
  {
   "cell_type": "markdown",
   "metadata": {},
   "source": [
    "# PyTorch"
   ]
  },
  {
   "cell_type": "code",
   "execution_count": 58,
   "metadata": {},
   "outputs": [],
   "source": [
    "import torch\n",
    "import torch.cuda as tc\n",
    "from torch.autograd import Variable"
   ]
  },
  {
   "cell_type": "code",
   "execution_count": 60,
   "metadata": {},
   "outputs": [],
   "source": [
    "def V(M): return Variable(M, requires_grad=True)"
   ]
  },
  {
   "cell_type": "code",
   "execution_count": 61,
   "metadata": {},
   "outputs": [],
   "source": [
    "v=vectors_tfidf.todense()"
   ]
  },
  {
   "cell_type": "code",
   "execution_count": 67,
   "metadata": {},
   "outputs": [],
   "source": [
    "t_vectors = torch.Tensor(v.astype(np.float32))#.cuda()"
   ]
  },
  {
   "cell_type": "code",
   "execution_count": 68,
   "metadata": {},
   "outputs": [],
   "source": [
    "mu = 1e-5"
   ]
  },
  {
   "cell_type": "code",
   "execution_count": 74,
   "metadata": {},
   "outputs": [],
   "source": [
    "def grads_t(M, W, H):\n",
    "    R = W.mm(H)-M\n",
    "    return (R.mm(H.t()) + penalty_t(W, mu)*lam, \n",
    "        W.t().mm(R) + penalty_t(H, mu)*lam) # dW, dH\n",
    "\n",
    "def penalty_t(M, mu):\n",
    "    return (M<mu).type(torch.FloatTensor)*torch.clamp(M - mu, max=0.)\n",
    "\n",
    "def upd_t(M, W, H, lr):\n",
    "    dW,dH = grads_t(M,W,H)\n",
    "    W.sub_(lr*dW); H.sub_(lr*dH)\n",
    "\n",
    "def report_t(M,W,H): \n",
    "    print((M-W.mm(H)).norm(2), W.min(), H.min(), (W<0).sum(), (H<0).sum())"
   ]
  },
  {
   "cell_type": "code",
   "execution_count": 75,
   "metadata": {},
   "outputs": [],
   "source": [
    "t_W = torch.FloatTensor(m,d)\n",
    "t_H = torch.FloatTensor(d,n)\n",
    "t_W.normal_(std=0.01).abs_(); \n",
    "t_H.normal_(std=0.01).abs_();"
   ]
  },
  {
   "cell_type": "code",
   "execution_count": 76,
   "metadata": {},
   "outputs": [],
   "source": [
    "d=6; lam=100; lr=0.05"
   ]
  },
  {
   "cell_type": "code",
   "execution_count": 77,
   "metadata": {},
   "outputs": [
    {
     "name": "stdout",
     "output_type": "stream",
     "text": [
      "tensor(44.3939) tensor(-0.0062) tensor(-0.0005) tensor(1478) tensor(2173)\n",
      "tensor(43.7057) tensor(-0.0099) tensor(-0.0177) tensor(1826) tensor(20545)\n",
      "tensor(43.6714) tensor(-0.0078) tensor(-0.0037) tensor(2209) tensor(22760)\n",
      "tensor(43.6627) tensor(-0.0050) tensor(-0.0057) tensor(2374) tensor(23027)\n",
      "tensor(43.6601) tensor(-0.0065) tensor(-0.0101) tensor(2512) tensor(22960)\n",
      "tensor(43.6585) tensor(-0.0040) tensor(-0.0064) tensor(3000) tensor(24393)\n",
      "tensor(43.6571) tensor(-0.0055) tensor(-0.0046) tensor(3109) tensor(25248)\n",
      "tensor(43.6562) tensor(-0.0044) tensor(-0.0028) tensor(2930) tensor(26141)\n",
      "tensor(43.6556) tensor(-0.0046) tensor(-0.0042) tensor(2836) tensor(26143)\n",
      "tensor(43.6550) tensor(-0.0040) tensor(-0.0040) tensor(3329) tensor(31798)\n"
     ]
    }
   ],
   "source": [
    "for i in range(1000): \n",
    "    upd_t(t_vectors,t_W,t_H,lr)\n",
    "    if i % 100 == 0: \n",
    "        report_t(t_vectors,t_W,t_H)\n",
    "        lr *= 0.9"
   ]
  },
  {
   "cell_type": "code",
   "execution_count": 79,
   "metadata": {},
   "outputs": [
    {
     "data": {
      "text/plain": [
       "['thanks files file image program format know windows',\n",
       " 'god jesus bible believe christian atheism belief does',\n",
       " 'ico bobbe tek beauchaine bronx manhattan sank queens',\n",
       " 'graphics software comp 3d group mac amiga edu',\n",
       " 'people don think just objective like say morality',\n",
       " 'space nasa launch shuttle orbit moon lunar earth']"
      ]
     },
     "execution_count": 79,
     "metadata": {},
     "output_type": "execute_result"
    }
   ],
   "source": [
    "show_topics(t_H.cpu().numpy())"
   ]
  },
  {
   "cell_type": "code",
   "execution_count": 81,
   "metadata": {},
   "outputs": [
    {
     "data": {
      "image/png": "[encoded data removed]",
      "text/plain": [
       "<Figure size 216x216 with 1 Axes>"
      ]
     },
     "metadata": {
      "needs_background": "light"
     },
     "output_type": "display_data"
    }
   ],
   "source": [
    "plt.plot(t_H.cpu().numpy()[0]);"
   ]
  },
  {
   "cell_type": "code",
   "execution_count": 82,
   "metadata": {},
   "outputs": [
    {
     "data": {
      "text/plain": [
       "tensor(0.3990)"
      ]
     },
     "execution_count": 82,
     "metadata": {},
     "output_type": "execute_result"
    }
   ],
   "source": [
    "t_W.mm(t_H).max()"
   ]
  },
  {
   "cell_type": "code",
   "execution_count": 83,
   "metadata": {},
   "outputs": [
    {
     "data": {
      "text/plain": [
       "tensor(1.)"
      ]
     },
     "execution_count": 83,
     "metadata": {},
     "output_type": "execute_result"
    }
   ],
   "source": [
    "t_vectors.max()"
   ]
  },
  {
   "cell_type": "markdown",
   "metadata": {},
   "source": [
    "## PyTorch: autograd\n",
    "\n",
    "PyTorch has an automatic differentiation package, autograd. This is really useful, in that we can use autograd on problems where we don't know what the derivative is.\n",
    "\n",
    "In PyTorch, Variables have the same API as tensors, but Variables remember the operations used on to create them. This lets us take derivatives."
   ]
  },
  {
   "cell_type": "markdown",
   "metadata": {
    "heading_collapsed": true
   },
   "source": [
    "### PyTorch Autograd Introduction"
   ]
  },
  {
   "cell_type": "code",
   "execution_count": 84,
   "metadata": {
    "hidden": true
   },
   "outputs": [
    {
     "name": "stdout",
     "output_type": "stream",
     "text": [
      "tensor([[1., 1.],\n",
      "        [1., 1.]], requires_grad=True)\n"
     ]
    }
   ],
   "source": [
    "x = Variable(torch.ones(2, 2), requires_grad=True)\n",
    "print(x)"
   ]
  },
  {
   "cell_type": "code",
   "execution_count": 85,
   "metadata": {
    "hidden": true
   },
   "outputs": [
    {
     "name": "stdout",
     "output_type": "stream",
     "text": [
      "tensor([[1., 1.],\n",
      "        [1., 1.]])\n"
     ]
    }
   ],
   "source": [
    "print(x.data)"
   ]
  },
  {
   "cell_type": "code",
   "execution_count": 86,
   "metadata": {
    "hidden": true
   },
   "outputs": [
    {
     "name": "stdout",
     "output_type": "stream",
     "text": [
      "None\n"
     ]
    }
   ],
   "source": [
    "print(x.grad)"
   ]
  },
  {
   "cell_type": "code",
   "execution_count": 87,
   "metadata": {
    "hidden": true
   },
   "outputs": [
    {
     "name": "stdout",
     "output_type": "stream",
     "text": [
      "tensor([[3., 3.],\n",
      "        [3., 3.]], grad_fn=<AddBackward0>)\n"
     ]
    }
   ],
   "source": [
    "y = x + 2\n",
    "print(y)"
   ]
  },
  {
   "cell_type": "code",
   "execution_count": 88,
   "metadata": {
    "hidden": true
   },
   "outputs": [
    {
     "name": "stdout",
     "output_type": "stream",
     "text": [
      "tensor([[27., 27.],\n",
      "        [27., 27.]], grad_fn=<MulBackward0>) tensor(108., grad_fn=<SumBackward0>)\n"
     ]
    }
   ],
   "source": [
    "z = y * y * 3\n",
    "out = z.sum()\n",
    "print(z, out)"
   ]
  },
  {
   "cell_type": "code",
   "execution_count": 89,
   "metadata": {
    "hidden": true
   },
   "outputs": [
    {
     "name": "stdout",
     "output_type": "stream",
     "text": [
      "tensor([[18., 18.],\n",
      "        [18., 18.]])\n"
     ]
    }
   ],
   "source": [
    "out.backward()\n",
    "print(x.grad)"
   ]
  },
  {
   "cell_type": "markdown",
   "metadata": {},
   "source": [
    "### Using Autograd for NMF"
   ]
  },
  {
   "cell_type": "code",
   "execution_count": 90,
   "metadata": {},
   "outputs": [],
   "source": [
    "lam=1e6"
   ]
  },
  {
   "cell_type": "code",
   "execution_count": 91,
   "metadata": {},
   "outputs": [],
   "source": [
    "pW = Variable(torch.FloatTensor(m,d), requires_grad=True)\n",
    "pH = Variable(torch.FloatTensor(d,n), requires_grad=True)\n",
    "pW.data.normal_(std=0.01).abs_()\n",
    "pH.data.normal_(std=0.01).abs_();"
   ]
  },
  {
   "cell_type": "code",
   "execution_count": 95,
   "metadata": {},
   "outputs": [],
   "source": [
    "def report():\n",
    "    W,H = pW.data, pH.data\n",
    "    print((M-pW.mm(pH)).norm(2).item(), W.min(), H.min(), (W<0).sum(), (H<0).sum())\n",
    "\n",
    "def penalty(A):\n",
    "    return torch.pow((A<0).type(torch.FloatTensor)*torch.clamp(A, max=0.), 2)\n",
    "\n",
    "def penalize(): return penalty(pW).mean() + penalty(pH).mean()\n",
    "\n",
    "def loss(): return (M-pW.mm(pH)).norm(2) + penalize()*lam"
   ]
  },
  {
   "cell_type": "code",
   "execution_count": 96,
   "metadata": {},
   "outputs": [],
   "source": [
    "M = Variable(t_vectors)"
   ]
  },
  {
   "cell_type": "code",
   "execution_count": 97,
   "metadata": {},
   "outputs": [
    {
     "name": "stdout",
     "output_type": "stream",
     "text": [
      "44.43931579589844 tensor(1.4027e-06) tensor(3.0473e-08) tensor(0) tensor(0)\n"
     ]
    }
   ],
   "source": [
    "opt = torch.optim.Adam([pW,pH], lr=1e-3, betas=(0.9,0.9))\n",
    "lr = 0.05\n",
    "report()"
   ]
  },
  {
   "cell_type": "markdown",
   "metadata": {},
   "source": [
    "How to apply SGD, using autograd:"
   ]
  },
  {
   "cell_type": "code",
   "execution_count": 98,
   "metadata": {},
   "outputs": [
    {
     "name": "stdout",
     "output_type": "stream",
     "text": [
      "43.972007751464844 tensor(-0.0010) tensor(-0.0013) tensor(245) tensor(11849)\n",
      "43.79525375366211 tensor(-0.0009) tensor(-0.0019) tensor(289) tensor(13892)\n",
      "43.730712890625 tensor(-0.0008) tensor(-0.0009) tensor(221) tensor(14412)\n",
      "43.697654724121094 tensor(-0.0006) tensor(-0.0012) tensor(212) tensor(14422)\n",
      "43.679866790771484 tensor(-0.0003) tensor(-0.0013) tensor(194) tensor(13132)\n",
      "43.67197036743164 tensor(-0.0003) tensor(-0.0012) tensor(207) tensor(12004)\n",
      "43.66824722290039 tensor(-0.0003) tensor(-0.0011) tensor(199) tensor(11009)\n",
      "43.666282653808594 tensor(-0.0003) tensor(-0.0013) tensor(266) tensor(10248)\n",
      "43.66117477416992 tensor(-0.0003) tensor(-0.0012) tensor(242) tensor(10045)\n",
      "43.6561164855957 tensor(-0.0004) tensor(-0.0010) tensor(265) tensor(9804)\n"
     ]
    }
   ],
   "source": [
    "for i in range(1000): \n",
    "    opt.zero_grad()\n",
    "    l = loss()\n",
    "    l.backward()\n",
    "    opt.step()\n",
    "    if i % 100 == 99: \n",
    "        report()\n",
    "        lr *= 0.9     # learning rate annealling"
   ]
  },
  {
   "cell_type": "code",
   "execution_count": 100,
   "metadata": {},
   "outputs": [
    {
     "data": {
      "text/plain": [
       "['just don think graphics like people know ve',\n",
       " 'god jesus bible believe christian atheism does belief',\n",
       " 'space nasa launch shuttle orbit lunar moon earth',\n",
       " 'ico bobbe tek bronx beauchaine manhattan sank queens',\n",
       " 'objective morality values moral subjective science absolute people',\n",
       " 'thanks files image file program graphics windows format']"
      ]
     },
     "execution_count": 100,
     "metadata": {},
     "output_type": "execute_result"
    }
   ],
   "source": [
    "h = pH.data.cpu().numpy()\n",
    "show_topics(h)"
   ]
  },
  {
   "cell_type": "code",
   "execution_count": 101,
   "metadata": {},
   "outputs": [
    {
     "data": {
      "image/png": "[encoded data removed]",
      "text/plain": [
       "<Figure size 216x216 with 1 Axes>"
      ]
     },
     "metadata": {
      "needs_background": "light"
     },
     "output_type": "display_data"
    }
   ],
   "source": [
    "plt.plot(h[0]);"
   ]
  },
  {
   "cell_type": "markdown",
   "metadata": {},
   "source": [
    "# Truncated SVD"
   ]
  },
  {
   "cell_type": "markdown",
   "metadata": {},
   "source": [
    "We saved a lot of time when we calculated NMF by only calculating the subset of columns we were interested in. Is there a way to get this benefit with SVD? Yes there is! It's called truncated SVD. We are just interested in the vectors corresponding to the **largest** singular values.\n",
    "\n",
    "**Shortcomings of classical algorithms for decomposition:**\n",
    "* Matrices are \"stupendously big\"\n",
    "* Data are often **missing or inaccurate**. Why spend extra computational resources when imprecision of input limits precision of the output?\n",
    "* **Data transfer** now plays a major role in time of algorithms. Techniques the require fewer passes over the data may be substantially faster, even if they require more flops (flops = floating point operations).\n",
    "* Important to take advantage of GPUs.\n",
    "\n",
    "**Advantages of randomized algorithms:**\n",
    "* inherently stable\n",
    "* performance guarantees do not depend on subtle spectral properties\n",
    "* needed matrix-vector products can be done in parallel\n",
    "\n",
    "### Randomized SVD\n",
    "Reminder: full SVD is slow. This is the calculation we did above using Scipy's Linalg SVD:"
   ]
  },
  {
   "cell_type": "code",
   "execution_count": 99,
   "metadata": {},
   "outputs": [
    {
     "data": {
      "text/plain": [
       "(2034, 26576)"
      ]
     },
     "execution_count": 99,
     "metadata": {},
     "output_type": "execute_result"
    }
   ],
   "source": [
    "vectors.shape"
   ]
  },
  {
   "cell_type": "code",
   "execution_count": 102,
   "metadata": {},
   "outputs": [
    {
     "name": "stdout",
     "output_type": "stream",
     "text": [
      "CPU times: user 43.7 s, sys: 1.76 s, total: 45.5 s\n",
      "Wall time: 24.9 s\n"
     ]
    }
   ],
   "source": [
    "%time U, s, Vh = linalg.svd(vectors, full_matrices=False)"
   ]
  },
  {
   "cell_type": "code",
   "execution_count": 103,
   "metadata": {},
   "outputs": [
    {
     "name": "stdout",
     "output_type": "stream",
     "text": [
      "(2034, 2034) (2034,) (2034, 26576)\n"
     ]
    }
   ],
   "source": [
    "print(U.shape, s.shape, Vh.shape)"
   ]
  },
  {
   "cell_type": "markdown",
   "metadata": {},
   "source": [
    "Fortunately, there is a faster way:\n",
    "\n",
    "**Question**: How can we speed things up? (without new breakthroughs in SVD research)\n",
    "\n",
    "**Idea**: Let's use a smaller matrix (with smaller $n$)!\n",
    "\n",
    "Instead of calculating the SVD on our full matrix A which is $m×n$, let's use $B=AQ$, which is just $m×r$ and $r<<n$\n",
    "\n",
    "We haven't found a better general SVD method, we are just using the method we have on a smaller matrix."
   ]
  },
  {
   "cell_type": "code",
   "execution_count": 104,
   "metadata": {},
   "outputs": [
    {
     "name": "stdout",
     "output_type": "stream",
     "text": [
      "CPU times: user 8.56 s, sys: 3.38 s, total: 11.9 s\n",
      "Wall time: 7.72 s\n"
     ]
    }
   ],
   "source": [
    "%time u, s, v = decomposition.randomized_svd(vectors, 5)"
   ]
  },
  {
   "cell_type": "code",
   "execution_count": 105,
   "metadata": {},
   "outputs": [
    {
     "name": "stdout",
     "output_type": "stream",
     "text": [
      "(2034, 5) (5,) (5, 26576)\n"
     ]
    }
   ],
   "source": [
    "print(u.shape, s.shape, v.shape)"
   ]
  },
  {
   "cell_type": "code",
   "execution_count": 106,
   "metadata": {},
   "outputs": [
    {
     "data": {
      "text/plain": [
       "['jpeg image edu file graphics images gif data',\n",
       " 'jpeg gif file color quality image jfif format',\n",
       " 'space jesus launch god people satellite matthew atheists',\n",
       " 'jesus god matthew people atheists atheism does graphics',\n",
       " 'image data processing analysis software available tools display']"
      ]
     },
     "execution_count": 106,
     "metadata": {},
     "output_type": "execute_result"
    }
   ],
   "source": [
    "show_topics(v)"
   ]
  },
  {
   "cell_type": "code",
   "execution_count": null,
   "metadata": {},
   "outputs": [],
   "source": []
  }
 ],
 "metadata": {
  "kernelspec": {
   "display_name": "Python 3",
   "language": "python",
   "name": "python3"
  },
  "language_info": {
   "codemirror_mode": {
    "name": "ipython",
    "version": 3
   },
   "file_extension": ".py",
   "mimetype": "text/x-python",
   "name": "python",
   "nbconvert_exporter": "python",
   "pygments_lexer": "ipython3",
   "version": "3.6.8"
  }
 },
 "nbformat": 4,
 "nbformat_minor": 2
}
