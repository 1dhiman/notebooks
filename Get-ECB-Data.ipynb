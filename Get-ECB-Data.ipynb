{
 "cells": [
  {
   "cell_type": "markdown",
   "metadata": {
    "toc": true
   },
   "source": [
    "<h1>Table of Contents<span class=\"tocSkip\"></span></h1>\n",
    "<div class=\"toc\"><ul class=\"toc-item\"></ul></div>"
   ]
  },
  {
   "cell_type": "code",
   "execution_count": 21,
   "metadata": {},
   "outputs": [],
   "source": [
    "# https://www.datacareer.de/blog/accessing-ecb-exchange-rate-data-in-python/"
   ]
  },
  {
   "cell_type": "code",
   "execution_count": 1,
   "metadata": {},
   "outputs": [],
   "source": [
    "import requests     # 2.18.4\n",
    "import pandas as pd # 0.23.0\n",
    "import io"
   ]
  },
  {
   "cell_type": "code",
   "execution_count": 2,
   "metadata": {},
   "outputs": [],
   "source": [
    "# Building blocks for the URL\n",
    "entrypoint = 'https://sdw-wsrest.ecb.europa.eu/service/' # Using protocol 'https'\n",
    "resource = 'data'           # The resource for data queries is always'data'\n",
    "flowRef ='EXR'              # Dataflow describing the data that needs to be returned, exchange rates in this case\n",
    "key = 'D.CHF.EUR.SP00.A'    # Defining the dimension values, explained below\n",
    "\n",
    "# Define the parameters\n",
    "parameters = {\n",
    "    'startPeriod': '2000-01-01',  # Start date of the time series\n",
    "    'endPeriod': '2018-10-01'     # End of the time series\n",
    "}"
   ]
  },
  {
   "cell_type": "code",
   "execution_count": 3,
   "metadata": {},
   "outputs": [
    {
     "name": "stdout",
     "output_type": "stream",
     "text": [
      "<Response [200]>\n",
      "https://sdw-wsrest.ecb.europa.eu/service/data/EXR/D.CHF.EUR.SP00.A?startPeriod=2000-01-01&endPeriod=2018-10-01\n"
     ]
    }
   ],
   "source": [
    "# Construct the URL: https://sdw-wsrest.ecb.europa.eu/service/data/EXR/D.CHF.EUR.SP00.A\n",
    "request_url = entrypoint + resource + '/'+ flowRef + '/' + key\n",
    "\n",
    "# Make the HTTP request\n",
    "response = requests.get(request_url, params=parameters)\n",
    "\n",
    "# Check if the response returns succesfully with response code 200\n",
    "print(response)\n",
    "\n",
    "# Print the full URL\n",
    "print(response.url)"
   ]
  },
  {
   "cell_type": "code",
   "execution_count": 4,
   "metadata": {},
   "outputs": [
    {
     "name": "stdout",
     "output_type": "stream",
     "text": [
      "<?xml version=\"1.0\" encoding=\"UTF-8\"?><message:GenericData xmlns:message=\"http://www.sdmx.org/resources/sdmxml/schemas/v2_1/message\" xmlns:common=\"http://www.sdmx.org/resources/sdmxml/schemas/v2_1/common\" xmlns:xsi=\"http://www.w3.org/2001/XMLSchema-instance\" xmlns:generic=\"http://www.sdmx.org/resources/sdmxml/schemas/v2_1/data/generic\" xsi:schemaLocation=\"http://www.sdmx.org/resources/sdmxml/schemas/v2_1/message https://sdw-wsrest.ecb.europa.eu:443/vocabulary/sdmx/2_1/SDMXMessage.xsd http://www.sdmx.org/resources/sdmxml/schemas/v2_1/common https://sdw-wsrest.ecb.europa.eu:443/vocabulary/sdmx/2_1/SDMXCommon.xsd http://www.sdmx.org/resources/sdmxml/schemas/v2_1/data/generic https://sdw-wsrest.ecb.europa.eu:443/vocabulary/sdmx/2_1/SDMXDataGeneric.xsd\">\n",
      "<message:Header>\n",
      "<message:ID>1d87887d-1bc4-4b3e-875c-9bd560d408df</message:ID>\n",
      "<message:Test>false</message:Test>\n",
      "<message:Prepared>2018-11-22T00:13:26.282+01:00</message:Prepared>\n",
      "<message:Sender id=\"ECB\"/>\n",
      "<message:Structure structureID=\"\n"
     ]
    }
   ],
   "source": [
    "# Print the first 1000 characters of the response\n",
    "print(response.text[0:1000])"
   ]
  },
  {
   "cell_type": "code",
   "execution_count": 5,
   "metadata": {},
   "outputs": [
    {
     "name": "stdout",
     "output_type": "stream",
     "text": [
      "<Response [200]>\n"
     ]
    }
   ],
   "source": [
    "# Make the HTTP request again, now requesting for CSV format\n",
    "response = requests.get(request_url, params=parameters, headers={'Accept': 'text/csv'})\n",
    "# Response succesful? (Response code 200)\n",
    "print(response)"
   ]
  },
  {
   "cell_type": "code",
   "execution_count": 6,
   "metadata": {},
   "outputs": [
    {
     "data": {
      "text/plain": [
       "'KEY,FREQ,CURRENCY,CURRENCY_DENOM,EXR_TYPE,EXR_SUFFIX,TIME_PERIOD,OBS_VALUE,OBS_STATUS,OBS_CONF,OBS_PRE_BREAK,OBS_COM,TIME_FORMAT,BREAKS,COLLECTION,COMPILING_ORG,DISS_ORG,DOM_SER_IDS,PUBL_ECB,PUBL_MU,PUBL_PUBLIC,UNIT_INDEX_BASE,COMPILATION,COVERAGE,DECIMALS,NAT_TITLE,SOURCE_AGENCY,SOURCE_PUB,TITLE,TITLE_COMPL,UNIT,UNIT_MULT\\r\\nEXR.D.CHF.EUR.SP00.A,D,CHF,EUR,SP00,A,2000-01-03,1.6043,A,,,,P1D,,A,,,,,,,,,,4,,4F0,,Swiss franc/Euro,\"ECB reference exchange rate, Swiss franc/Euro, 2:15 pm (C.E.T.)\",CHF,0\\r\\nEXR.D.CHF.EUR.SP00.A,D,CHF,EUR,SP00,A,2000-01-04,1.6053,A,,,,P1D,,A,,,,,,,,,,4,,4F0,,Swiss franc/Euro,\"ECB reference exchange rate, Swiss franc/Euro, 2:15 pm (C.E.T.)\",CHF,0\\r\\nEXR.D.CHF.EUR.SP00.A,D,CHF,EUR,SP00,A,2000-01-05,1.606,A,,,,P1D,,A,,,,,,,,,,4,,4F0,,Swiss franc/Euro,\"ECB reference exchange rate, Swiss franc/Euro, 2:15 pm (C.E.T.)\",CHF,0\\r\\nEXR.D.CHF.EUR.SP00.A,D,CHF,EUR,SP00,A,2000-01-06,1.6068,A,,,,P1D,,A,,,,,,,,,,4,,4F0,,Swiss franc/Euro,\"ECB reference exchange rate, Swiss franc/Euro, '"
      ]
     },
     "execution_count": 6,
     "metadata": {},
     "output_type": "execute_result"
    }
   ],
   "source": [
    "# Print the first 1000 characters to inspect the response\n",
    "response.text[0:1000]"
   ]
  },
  {
   "cell_type": "code",
   "execution_count": 7,
   "metadata": {},
   "outputs": [],
   "source": [
    "# Read the response as a file into a Pandas DataFrame\n",
    "df = pd.read_csv(io.StringIO(response.text))"
   ]
  },
  {
   "cell_type": "code",
   "execution_count": 8,
   "metadata": {},
   "outputs": [
    {
     "name": "stdout",
     "output_type": "stream",
     "text": [
      "<class 'pandas.core.frame.DataFrame'>\n",
      "RangeIndex: 4859 entries, 0 to 4858\n",
      "Data columns (total 32 columns):\n",
      "KEY                4859 non-null object\n",
      "FREQ               4859 non-null object\n",
      "CURRENCY           4859 non-null object\n",
      "CURRENCY_DENOM     4859 non-null object\n",
      "EXR_TYPE           4859 non-null object\n",
      "EXR_SUFFIX         4859 non-null object\n",
      "TIME_PERIOD        4859 non-null object\n",
      "OBS_VALUE          4798 non-null float64\n",
      "OBS_STATUS         4859 non-null object\n",
      "OBS_CONF           238 non-null object\n",
      "OBS_PRE_BREAK      0 non-null float64\n",
      "OBS_COM            0 non-null float64\n",
      "TIME_FORMAT        4859 non-null object\n",
      "BREAKS             0 non-null float64\n",
      "COLLECTION         4859 non-null object\n",
      "COMPILING_ORG      0 non-null float64\n",
      "DISS_ORG           0 non-null float64\n",
      "DOM_SER_IDS        0 non-null float64\n",
      "PUBL_ECB           0 non-null float64\n",
      "PUBL_MU            0 non-null float64\n",
      "PUBL_PUBLIC        0 non-null float64\n",
      "UNIT_INDEX_BASE    0 non-null float64\n",
      "COMPILATION        0 non-null float64\n",
      "COVERAGE           0 non-null float64\n",
      "DECIMALS           4859 non-null int64\n",
      "NAT_TITLE          0 non-null float64\n",
      "SOURCE_AGENCY      4859 non-null object\n",
      "SOURCE_PUB         0 non-null float64\n",
      "TITLE              4859 non-null object\n",
      "TITLE_COMPL        4859 non-null object\n",
      "UNIT               4859 non-null object\n",
      "UNIT_MULT          4859 non-null int64\n",
      "dtypes: float64(15), int64(2), object(15)\n",
      "memory usage: 1.2+ MB\n"
     ]
    }
   ],
   "source": [
    "# Check the DataFrame's information\n",
    "df.info()"
   ]
  },
  {
   "cell_type": "code",
   "execution_count": 9,
   "metadata": {},
   "outputs": [
    {
     "data": {
      "text/html": [
       "<div>\n",
       "<style scoped>\n",
       "    .dataframe tbody tr th:only-of-type {\n",
       "        vertical-align: middle;\n",
       "    }\n",
       "\n",
       "    .dataframe tbody tr th {\n",
       "        vertical-align: top;\n",
       "    }\n",
       "\n",
       "    .dataframe thead th {\n",
       "        text-align: right;\n",
       "    }\n",
       "</style>\n",
       "<table border=\"1\" class=\"dataframe\">\n",
       "  <thead>\n",
       "    <tr style=\"text-align: right;\">\n",
       "      <th></th>\n",
       "      <th>KEY</th>\n",
       "      <th>FREQ</th>\n",
       "      <th>CURRENCY</th>\n",
       "      <th>CURRENCY_DENOM</th>\n",
       "      <th>EXR_TYPE</th>\n",
       "      <th>EXR_SUFFIX</th>\n",
       "      <th>TIME_PERIOD</th>\n",
       "      <th>OBS_VALUE</th>\n",
       "      <th>OBS_STATUS</th>\n",
       "      <th>OBS_CONF</th>\n",
       "      <th>...</th>\n",
       "      <th>COMPILATION</th>\n",
       "      <th>COVERAGE</th>\n",
       "      <th>DECIMALS</th>\n",
       "      <th>NAT_TITLE</th>\n",
       "      <th>SOURCE_AGENCY</th>\n",
       "      <th>SOURCE_PUB</th>\n",
       "      <th>TITLE</th>\n",
       "      <th>TITLE_COMPL</th>\n",
       "      <th>UNIT</th>\n",
       "      <th>UNIT_MULT</th>\n",
       "    </tr>\n",
       "  </thead>\n",
       "  <tbody>\n",
       "    <tr>\n",
       "      <th>4854</th>\n",
       "      <td>EXR.D.CHF.EUR.SP00.A</td>\n",
       "      <td>D</td>\n",
       "      <td>CHF</td>\n",
       "      <td>EUR</td>\n",
       "      <td>SP00</td>\n",
       "      <td>A</td>\n",
       "      <td>2018-09-25</td>\n",
       "      <td>1.1376</td>\n",
       "      <td>A</td>\n",
       "      <td>F</td>\n",
       "      <td>...</td>\n",
       "      <td>NaN</td>\n",
       "      <td>NaN</td>\n",
       "      <td>4</td>\n",
       "      <td>NaN</td>\n",
       "      <td>4F0</td>\n",
       "      <td>NaN</td>\n",
       "      <td>Swiss franc/Euro</td>\n",
       "      <td>ECB reference exchange rate, Swiss franc/Euro,...</td>\n",
       "      <td>CHF</td>\n",
       "      <td>0</td>\n",
       "    </tr>\n",
       "    <tr>\n",
       "      <th>4855</th>\n",
       "      <td>EXR.D.CHF.EUR.SP00.A</td>\n",
       "      <td>D</td>\n",
       "      <td>CHF</td>\n",
       "      <td>EUR</td>\n",
       "      <td>SP00</td>\n",
       "      <td>A</td>\n",
       "      <td>2018-09-26</td>\n",
       "      <td>1.1369</td>\n",
       "      <td>A</td>\n",
       "      <td>F</td>\n",
       "      <td>...</td>\n",
       "      <td>NaN</td>\n",
       "      <td>NaN</td>\n",
       "      <td>4</td>\n",
       "      <td>NaN</td>\n",
       "      <td>4F0</td>\n",
       "      <td>NaN</td>\n",
       "      <td>Swiss franc/Euro</td>\n",
       "      <td>ECB reference exchange rate, Swiss franc/Euro,...</td>\n",
       "      <td>CHF</td>\n",
       "      <td>0</td>\n",
       "    </tr>\n",
       "    <tr>\n",
       "      <th>4856</th>\n",
       "      <td>EXR.D.CHF.EUR.SP00.A</td>\n",
       "      <td>D</td>\n",
       "      <td>CHF</td>\n",
       "      <td>EUR</td>\n",
       "      <td>SP00</td>\n",
       "      <td>A</td>\n",
       "      <td>2018-09-27</td>\n",
       "      <td>1.1371</td>\n",
       "      <td>A</td>\n",
       "      <td>F</td>\n",
       "      <td>...</td>\n",
       "      <td>NaN</td>\n",
       "      <td>NaN</td>\n",
       "      <td>4</td>\n",
       "      <td>NaN</td>\n",
       "      <td>4F0</td>\n",
       "      <td>NaN</td>\n",
       "      <td>Swiss franc/Euro</td>\n",
       "      <td>ECB reference exchange rate, Swiss franc/Euro,...</td>\n",
       "      <td>CHF</td>\n",
       "      <td>0</td>\n",
       "    </tr>\n",
       "    <tr>\n",
       "      <th>4857</th>\n",
       "      <td>EXR.D.CHF.EUR.SP00.A</td>\n",
       "      <td>D</td>\n",
       "      <td>CHF</td>\n",
       "      <td>EUR</td>\n",
       "      <td>SP00</td>\n",
       "      <td>A</td>\n",
       "      <td>2018-09-28</td>\n",
       "      <td>1.1316</td>\n",
       "      <td>A</td>\n",
       "      <td>F</td>\n",
       "      <td>...</td>\n",
       "      <td>NaN</td>\n",
       "      <td>NaN</td>\n",
       "      <td>4</td>\n",
       "      <td>NaN</td>\n",
       "      <td>4F0</td>\n",
       "      <td>NaN</td>\n",
       "      <td>Swiss franc/Euro</td>\n",
       "      <td>ECB reference exchange rate, Swiss franc/Euro,...</td>\n",
       "      <td>CHF</td>\n",
       "      <td>0</td>\n",
       "    </tr>\n",
       "    <tr>\n",
       "      <th>4858</th>\n",
       "      <td>EXR.D.CHF.EUR.SP00.A</td>\n",
       "      <td>D</td>\n",
       "      <td>CHF</td>\n",
       "      <td>EUR</td>\n",
       "      <td>SP00</td>\n",
       "      <td>A</td>\n",
       "      <td>2018-10-01</td>\n",
       "      <td>1.1414</td>\n",
       "      <td>A</td>\n",
       "      <td>F</td>\n",
       "      <td>...</td>\n",
       "      <td>NaN</td>\n",
       "      <td>NaN</td>\n",
       "      <td>4</td>\n",
       "      <td>NaN</td>\n",
       "      <td>4F0</td>\n",
       "      <td>NaN</td>\n",
       "      <td>Swiss franc/Euro</td>\n",
       "      <td>ECB reference exchange rate, Swiss franc/Euro,...</td>\n",
       "      <td>CHF</td>\n",
       "      <td>0</td>\n",
       "    </tr>\n",
       "  </tbody>\n",
       "</table>\n",
       "<p>5 rows × 32 columns</p>\n",
       "</div>"
      ],
      "text/plain": [
       "                       KEY FREQ CURRENCY CURRENCY_DENOM EXR_TYPE EXR_SUFFIX  \\\n",
       "4854  EXR.D.CHF.EUR.SP00.A    D      CHF            EUR     SP00          A   \n",
       "4855  EXR.D.CHF.EUR.SP00.A    D      CHF            EUR     SP00          A   \n",
       "4856  EXR.D.CHF.EUR.SP00.A    D      CHF            EUR     SP00          A   \n",
       "4857  EXR.D.CHF.EUR.SP00.A    D      CHF            EUR     SP00          A   \n",
       "4858  EXR.D.CHF.EUR.SP00.A    D      CHF            EUR     SP00          A   \n",
       "\n",
       "     TIME_PERIOD  OBS_VALUE OBS_STATUS OBS_CONF    ...      COMPILATION  \\\n",
       "4854  2018-09-25     1.1376          A        F    ...              NaN   \n",
       "4855  2018-09-26     1.1369          A        F    ...              NaN   \n",
       "4856  2018-09-27     1.1371          A        F    ...              NaN   \n",
       "4857  2018-09-28     1.1316          A        F    ...              NaN   \n",
       "4858  2018-10-01     1.1414          A        F    ...              NaN   \n",
       "\n",
       "      COVERAGE DECIMALS  NAT_TITLE SOURCE_AGENCY  SOURCE_PUB  \\\n",
       "4854       NaN        4        NaN           4F0         NaN   \n",
       "4855       NaN        4        NaN           4F0         NaN   \n",
       "4856       NaN        4        NaN           4F0         NaN   \n",
       "4857       NaN        4        NaN           4F0         NaN   \n",
       "4858       NaN        4        NaN           4F0         NaN   \n",
       "\n",
       "                 TITLE                                        TITLE_COMPL  \\\n",
       "4854  Swiss franc/Euro  ECB reference exchange rate, Swiss franc/Euro,...   \n",
       "4855  Swiss franc/Euro  ECB reference exchange rate, Swiss franc/Euro,...   \n",
       "4856  Swiss franc/Euro  ECB reference exchange rate, Swiss franc/Euro,...   \n",
       "4857  Swiss franc/Euro  ECB reference exchange rate, Swiss franc/Euro,...   \n",
       "4858  Swiss franc/Euro  ECB reference exchange rate, Swiss franc/Euro,...   \n",
       "\n",
       "      UNIT  UNIT_MULT  \n",
       "4854   CHF          0  \n",
       "4855   CHF          0  \n",
       "4856   CHF          0  \n",
       "4857   CHF          0  \n",
       "4858   CHF          0  \n",
       "\n",
       "[5 rows x 32 columns]"
      ]
     },
     "execution_count": 9,
     "metadata": {},
     "output_type": "execute_result"
    }
   ],
   "source": [
    "# Show the last 5 entries of the DataFrame\n",
    "df.tail()"
   ]
  },
  {
   "cell_type": "code",
   "execution_count": 10,
   "metadata": {},
   "outputs": [
    {
     "data": {
      "text/plain": [
       "count    4798.000000\n",
       "mean        1.379459\n",
       "std         0.193938\n",
       "min         0.981600\n",
       "25%         1.205500\n",
       "50%         1.467300\n",
       "75%         1.547200\n",
       "max         1.680300\n",
       "Name: OBS_VALUE, dtype: float64"
      ]
     },
     "execution_count": 10,
     "metadata": {},
     "output_type": "execute_result"
    }
   ],
   "source": [
    "# Inspect the prices. Do the mean, minimum and maximum make sense?\n",
    "df['OBS_VALUE'].describe()"
   ]
  },
  {
   "cell_type": "code",
   "execution_count": 11,
   "metadata": {},
   "outputs": [
    {
     "data": {
      "text/html": [
       "<div>\n",
       "<style scoped>\n",
       "    .dataframe tbody tr th:only-of-type {\n",
       "        vertical-align: middle;\n",
       "    }\n",
       "\n",
       "    .dataframe tbody tr th {\n",
       "        vertical-align: top;\n",
       "    }\n",
       "\n",
       "    .dataframe thead th {\n",
       "        text-align: right;\n",
       "    }\n",
       "</style>\n",
       "<table border=\"1\" class=\"dataframe\">\n",
       "  <thead>\n",
       "    <tr style=\"text-align: right;\">\n",
       "      <th></th>\n",
       "      <th>OBS_VALUE</th>\n",
       "    </tr>\n",
       "    <tr>\n",
       "      <th>TIME_PERIOD</th>\n",
       "      <th></th>\n",
       "    </tr>\n",
       "  </thead>\n",
       "  <tbody>\n",
       "    <tr>\n",
       "      <th>2018-09-25</th>\n",
       "      <td>1.1376</td>\n",
       "    </tr>\n",
       "    <tr>\n",
       "      <th>2018-09-26</th>\n",
       "      <td>1.1369</td>\n",
       "    </tr>\n",
       "    <tr>\n",
       "      <th>2018-09-27</th>\n",
       "      <td>1.1371</td>\n",
       "    </tr>\n",
       "    <tr>\n",
       "      <th>2018-09-28</th>\n",
       "      <td>1.1316</td>\n",
       "    </tr>\n",
       "    <tr>\n",
       "      <th>2018-10-01</th>\n",
       "      <td>1.1414</td>\n",
       "    </tr>\n",
       "  </tbody>\n",
       "</table>\n",
       "</div>"
      ],
      "text/plain": [
       "             OBS_VALUE\n",
       "TIME_PERIOD           \n",
       "2018-09-25      1.1376\n",
       "2018-09-26      1.1369\n",
       "2018-09-27      1.1371\n",
       "2018-09-28      1.1316\n",
       "2018-10-01      1.1414"
      ]
     },
     "execution_count": 11,
     "metadata": {},
     "output_type": "execute_result"
    }
   ],
   "source": [
    "# Create a new DataFrame called 'ts'\n",
    "ts = df.filter(['TIME_PERIOD', 'OBS_VALUE'], axis=1)\n",
    "# 'TIME_PERIOD' was of type 'object' (as seen in df.info). Convert it to datetime first\n",
    "ts['TIME_PERIOD'] = pd.to_datetime(ts['TIME_PERIOD'])\n",
    "# Set 'TIME_PERIOD' to be the index\n",
    "ts = ts.set_index('TIME_PERIOD')\n",
    "# Print the last 5 rows to screen\n",
    "ts.tail()"
   ]
  },
  {
   "cell_type": "code",
   "execution_count": 12,
   "metadata": {},
   "outputs": [
    {
     "data": {
      "text/plain": [
       "<matplotlib.axes._subplots.AxesSubplot at 0x11c5114e0>"
      ]
     },
     "execution_count": 12,
     "metadata": {},
     "output_type": "execute_result"
    },
    {
     "data": {
      "image/png": "[encoded data removed]",
      "text/plain": [
       "<Figure size 432x288 with 1 Axes>"
      ]
     },
     "metadata": {
      "needs_background": "light"
     },
     "output_type": "display_data"
    }
   ],
   "source": [
    "%matplotlib inline\n",
    "ts.plot()"
   ]
  },
  {
   "cell_type": "code",
   "execution_count": 14,
   "metadata": {},
   "outputs": [
    {
     "name": "stdout",
     "output_type": "stream",
     "text": [
      "Collecting pandasdmx\n",
      "\u001b[?25l  Downloading https://files.pythonhosted.org/packages/e7/5d/7e29616b0376d0a15eb3013c909c4e9021b6c6e244ef1b48817b4d0c4d46/pandaSDMX-0.9-py2.py3-none-any.whl (45kB)\n",
      "\u001b[K    100% |████████████████████████████████| 51kB 1.3MB/s ta 0:00:01\n",
      "\u001b[?25hRequirement already satisfied: pandas in /Users/adhiman/anaconda3/lib/python3.7/site-packages (from pandasdmx) (0.23.4)\n",
      "Collecting jsonpath-rw (from pandasdmx)\n",
      "  Downloading https://files.pythonhosted.org/packages/71/7c/45001b1f19af8c4478489fbae4fc657b21c4c669d7a5a036a86882581d85/jsonpath-rw-1.4.0.tar.gz\n",
      "Requirement already satisfied: lxml in /Users/adhiman/anaconda3/lib/python3.7/site-packages (from pandasdmx) (4.2.5)\n",
      "Requirement already satisfied: requests in /Users/adhiman/anaconda3/lib/python3.7/site-packages (from pandasdmx) (2.19.1)\n",
      "Requirement already satisfied: setuptools in /Users/adhiman/anaconda3/lib/python3.7/site-packages (from pandasdmx) (40.2.0)\n",
      "Requirement already satisfied: python-dateutil>=2.5.0 in /Users/adhiman/anaconda3/lib/python3.7/site-packages (from pandas->pandasdmx) (2.7.3)\n",
      "Requirement already satisfied: pytz>=2011k in /Users/adhiman/anaconda3/lib/python3.7/site-packages (from pandas->pandasdmx) (2018.5)\n",
      "Requirement already satisfied: numpy>=1.9.0 in /Users/adhiman/anaconda3/lib/python3.7/site-packages (from pandas->pandasdmx) (1.15.1)\n",
      "Requirement already satisfied: ply in /Users/adhiman/anaconda3/lib/python3.7/site-packages (from jsonpath-rw->pandasdmx) (3.11)\n",
      "Requirement already satisfied: decorator in /Users/adhiman/anaconda3/lib/python3.7/site-packages (from jsonpath-rw->pandasdmx) (4.3.0)\n",
      "Requirement already satisfied: six in /Users/adhiman/anaconda3/lib/python3.7/site-packages (from jsonpath-rw->pandasdmx) (1.11.0)\n",
      "Requirement already satisfied: chardet<3.1.0,>=3.0.2 in /Users/adhiman/anaconda3/lib/python3.7/site-packages (from requests->pandasdmx) (3.0.4)\n",
      "Requirement already satisfied: idna<2.8,>=2.5 in /Users/adhiman/anaconda3/lib/python3.7/site-packages (from requests->pandasdmx) (2.7)\n",
      "Requirement already satisfied: urllib3<1.24,>=1.21.1 in /Users/adhiman/anaconda3/lib/python3.7/site-packages (from requests->pandasdmx) (1.23)\n",
      "Requirement already satisfied: certifi>=2017.4.17 in /Users/adhiman/anaconda3/lib/python3.7/site-packages (from requests->pandasdmx) (2018.8.24)\n",
      "Building wheels for collected packages: jsonpath-rw\n",
      "  Running setup.py bdist_wheel for jsonpath-rw ... \u001b[?25ldone\n",
      "\u001b[?25h  Stored in directory: /Users/adhiman/Library/Caches/pip/wheels/5c/00/9a/82822db383c2d96dcebf839786665a185f92d37e5026f9806f\n",
      "Successfully built jsonpath-rw\n",
      "Installing collected packages: jsonpath-rw, pandasdmx\n",
      "Successfully installed jsonpath-rw-1.4.0 pandasdmx-0.9\n"
     ]
    }
   ],
   "source": [
    "# Install a pip package in the current Jupyter kernel\n",
    "import sys\n",
    "!{sys.executable} -m pip install pandasdmx"
   ]
  },
  {
   "cell_type": "code",
   "execution_count": 15,
   "metadata": {},
   "outputs": [],
   "source": [
    "from pandasdmx import Request\n",
    "\n",
    "# Define the source\n",
    "ecb = Request('ECB')"
   ]
  },
  {
   "cell_type": "code",
   "execution_count": 16,
   "metadata": {},
   "outputs": [],
   "source": [
    "# Retrieve the data (we start at 2016, because are requesting a larger dataset (including other frequencies))\n",
    "data_response = ecb.data(resource_id = 'EXR', key={'CURRENCY': ['CHF', 'EUR']}, params = {'startPeriod': '2016'})\n",
    "data = data_response.data"
   ]
  },
  {
   "cell_type": "code",
   "execution_count": 17,
   "metadata": {},
   "outputs": [
    {
     "data": {
      "text/plain": [
       "pandasdmx.model.DataSet"
      ]
     },
     "execution_count": 17,
     "metadata": {},
     "output_type": "execute_result"
    }
   ],
   "source": [
    "# The data will be a pandaSDMC 'DataSet'\n",
    "type(data)"
   ]
  },
  {
   "cell_type": "code",
   "execution_count": 18,
   "metadata": {},
   "outputs": [
    {
     "data": {
      "text/plain": [
       "{'A', 'D', 'H', 'M', 'Q'}"
      ]
     },
     "execution_count": 18,
     "metadata": {},
     "output_type": "execute_result"
    }
   ],
   "source": [
    "# Show which frequencies are available ('D' is 'daily', you can probably guess the other ones)\n",
    "set(s.key.FREQ for s in data.series)"
   ]
  },
  {
   "cell_type": "code",
   "execution_count": 19,
   "metadata": {},
   "outputs": [
    {
     "data": {
      "text/html": [
       "<div>\n",
       "<style scoped>\n",
       "    .dataframe tbody tr th:only-of-type {\n",
       "        vertical-align: middle;\n",
       "    }\n",
       "\n",
       "    .dataframe tbody tr th {\n",
       "        vertical-align: top;\n",
       "    }\n",
       "\n",
       "    .dataframe thead tr th {\n",
       "        text-align: left;\n",
       "    }\n",
       "\n",
       "    .dataframe thead tr:last-of-type th {\n",
       "        text-align: right;\n",
       "    }\n",
       "</style>\n",
       "<table border=\"1\" class=\"dataframe\">\n",
       "  <thead>\n",
       "    <tr>\n",
       "      <th>FREQ</th>\n",
       "      <th>D</th>\n",
       "    </tr>\n",
       "    <tr>\n",
       "      <th>CURRENCY</th>\n",
       "      <th>CHF</th>\n",
       "    </tr>\n",
       "    <tr>\n",
       "      <th>CURRENCY_DENOM</th>\n",
       "      <th>EUR</th>\n",
       "    </tr>\n",
       "    <tr>\n",
       "      <th>EXR_TYPE</th>\n",
       "      <th>SP00</th>\n",
       "    </tr>\n",
       "    <tr>\n",
       "      <th>EXR_SUFFIX</th>\n",
       "      <th>A</th>\n",
       "    </tr>\n",
       "    <tr>\n",
       "      <th>TIME_PERIOD</th>\n",
       "      <th></th>\n",
       "    </tr>\n",
       "  </thead>\n",
       "  <tbody>\n",
       "    <tr>\n",
       "      <th>2018-11-15</th>\n",
       "      <td>1.1365</td>\n",
       "    </tr>\n",
       "    <tr>\n",
       "      <th>2018-11-16</th>\n",
       "      <td>1.1431</td>\n",
       "    </tr>\n",
       "    <tr>\n",
       "      <th>2018-11-19</th>\n",
       "      <td>1.1391</td>\n",
       "    </tr>\n",
       "    <tr>\n",
       "      <th>2018-11-20</th>\n",
       "      <td>1.1328</td>\n",
       "    </tr>\n",
       "    <tr>\n",
       "      <th>2018-11-21</th>\n",
       "      <td>1.1341</td>\n",
       "    </tr>\n",
       "  </tbody>\n",
       "</table>\n",
       "</div>"
      ],
      "text/plain": [
       "FREQ                 D\n",
       "CURRENCY           CHF\n",
       "CURRENCY_DENOM     EUR\n",
       "EXR_TYPE          SP00\n",
       "EXR_SUFFIX           A\n",
       "TIME_PERIOD           \n",
       "2018-11-15      1.1365\n",
       "2018-11-16      1.1431\n",
       "2018-11-19      1.1391\n",
       "2018-11-20      1.1328\n",
       "2018-11-21      1.1341"
      ]
     },
     "execution_count": 19,
     "metadata": {},
     "output_type": "execute_result"
    }
   ],
   "source": [
    "# Filter the the daily data and 'write' it to a DataFrame\n",
    "daily = (s for s in data.series if s.key.FREQ == 'D')\n",
    "ts2 = data_response.write(daily)\n",
    "ts2.tail()"
   ]
  },
  {
   "cell_type": "code",
   "execution_count": 20,
   "metadata": {},
   "outputs": [
    {
     "data": {
      "text/plain": [
       "<matplotlib.axes._subplots.AxesSubplot at 0x11f0b15c0>"
      ]
     },
     "execution_count": 20,
     "metadata": {},
     "output_type": "execute_result"
    },
    {
     "data": {
      "image/png": "[encoded data removed]",
      "text/plain": [
       "<Figure size 432x288 with 1 Axes>"
      ]
     },
     "metadata": {
      "needs_background": "light"
     },
     "output_type": "display_data"
    }
   ],
   "source": [
    "%matplotlib inline\n",
    "ts2.plot()"
   ]
  },
  {
   "cell_type": "code",
   "execution_count": null,
   "metadata": {},
   "outputs": [],
   "source": []
  }
 ],
 "metadata": {
  "kernelspec": {
   "display_name": "Python 3",
   "language": "python",
   "name": "python3"
  },
  "language_info": {
   "codemirror_mode": {
    "name": "ipython",
    "version": 3
   },
   "file_extension": ".py",
   "mimetype": "text/x-python",
   "name": "python",
   "nbconvert_exporter": "python",
   "pygments_lexer": "ipython3",
   "version": "3.7.0"
  },
  "toc": {
   "base_numbering": 1,
   "nav_menu": {},
   "number_sections": true,
   "sideBar": true,
   "skip_h1_title": true,
   "title_cell": "Table of Contents",
   "title_sidebar": "Contents",
   "toc_cell": true,
   "toc_position": {},
   "toc_section_display": true,
   "toc_window_display": false
  }
 },
 "nbformat": 4,
 "nbformat_minor": 2
}
